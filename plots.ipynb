{
 "cells": [
  {
   "attachments": {},
   "cell_type": "markdown",
   "metadata": {},
   "source": [
    "# Radar graph"
   ]
  },
  {
   "cell_type": "code",
   "execution_count": 12,
   "metadata": {},
   "outputs": [],
   "source": [
    "import numpy as np\n",
    "import textwrap\n",
    "import matplotlib\n",
    "import matplotlib.pyplot as plt\n",
    "from matplotlib.path import Path\n",
    "import matplotlib.patches as patches\n",
    "import math\n",
    "import pandas as pd"
   ]
  },
  {
   "attachments": {},
   "cell_type": "markdown",
   "metadata": {},
   "source": [
    "https://towardsdatascience.com/how-to-create-and-visualize-complex-radar-charts-f7764d0f3652\n",
    "\n",
    "https://colab.research.google.com/drive/1YftqOtPkJGIKbPqBQtjyZgikx20G7Z0M?usp=sharing#scrollTo=Jbxbe3jSyv9Z"
   ]
  },
  {
   "cell_type": "code",
   "execution_count": 2,
   "metadata": {},
   "outputs": [],
   "source": [
    "class ComplexRadar():\n",
    "    \"\"\"\n",
    "    Create a complex radar chart with different scales for each variable\n",
    "    Parameters\n",
    "    ----------\n",
    "    fig : figure object\n",
    "        A matplotlib figure object to add the axes on\n",
    "    variables : list\n",
    "        A list of variables\n",
    "    ranges : list\n",
    "        A list of tuples (min, max) for each variable\n",
    "    n_ring_levels: int, defaults to 5\n",
    "        Number of ordinate or ring levels to draw\n",
    "    show_scales: bool, defaults to True\n",
    "        Indicates if we the ranges for each variable are plotted\n",
    "    \"\"\"\n",
    "    def __init__(self, fig, variables, ranges, n_ring_levels=5, show_scales=True):\n",
    "        # Calculate angles and create for each variable an axes\n",
    "        # Consider here the trick with having the first axes element twice (len+1)\n",
    "        angles = np.arange(0, 360, 360./len(variables))\n",
    "        axes = [fig.add_axes([0.1,0.1,0.9,0.9], polar=True, label = \"axes{}\".format(i)) for i in range(len(variables)+1)]\n",
    "        \n",
    "        # Ensure clockwise rotation (first variable at the top N)\n",
    "        for ax in axes:\n",
    "            ax.set_theta_zero_location('N')\n",
    "            ax.set_theta_direction(-1)\n",
    "            ax.set_axisbelow(True)\n",
    "        \n",
    "        # Writing the ranges on each axes\n",
    "        for i, ax in enumerate(axes):\n",
    "\n",
    "            # Here we do the trick by repeating the first iteration\n",
    "            j = 0 if (i==0 or i==1) else i-1\n",
    "            ax.set_ylim(*ranges[j])\n",
    "            # Set endpoint to True if you like to have values right before the last circle\n",
    "            grid = np.linspace(*ranges[j], num=n_ring_levels, \n",
    "                               endpoint=False)\n",
    "            gridlabel = [\"{}\".format(round(x,2)) for x in grid]\n",
    "            gridlabel[0] = \"\" # remove values from the center\n",
    "            lines, labels = ax.set_rgrids(grid, labels=gridlabel, angle=angles[j])\n",
    "            \n",
    "            ax.set_ylim(*ranges[j])\n",
    "            ax.spines[\"polar\"].set_visible(False)\n",
    "            ax.grid(visible=False)\n",
    "            \n",
    "            if show_scales == False:\n",
    "                ax.set_yticklabels([])\n",
    "\n",
    "        # Set all axes except the first one unvisible\n",
    "        for ax in axes[1:]:\n",
    "            ax.patch.set_visible(False)\n",
    "            ax.xaxis.set_visible(False)\n",
    "            \n",
    "        # Setting the attributes\n",
    "        self.angle = np.deg2rad(np.r_[angles, angles[0]])\n",
    "        self.ranges = ranges\n",
    "        self.ax = axes[0]\n",
    "        self.ax1 = axes[1]\n",
    "        self.plot_counter = 0\n",
    "        \n",
    "        # Draw (inner) circles and lines\n",
    "        self.ax.yaxis.grid()\n",
    "        self.ax.xaxis.grid()\n",
    "\n",
    "        # Draw outer circle\n",
    "        self.ax.spines['polar'].set_visible(True)\n",
    "        \n",
    "        # ax1 is the duplicate of axes[0] (self.ax)\n",
    "        # Remove everything from ax1 except the plot itself\n",
    "        self.ax1.axis('off')\n",
    "        self.ax1.set_zorder(9)\n",
    "        \n",
    "        # Create the outer labels for each variable\n",
    "        l, text = self.ax.set_thetagrids(angles, labels=variables)\n",
    "        \n",
    "        # Beautify them\n",
    "        labels = [t.get_text() for t in self.ax.get_xticklabels()]\n",
    "        labels = ['\\n'.join(textwrap.wrap(l, 15, \n",
    "                                          break_long_words=False)) for l in labels]\n",
    "        self.ax.set_xticklabels(labels)\n",
    "        \n",
    "        for t,a in zip(self.ax.get_xticklabels(),angles):\n",
    "            if a == 0:\n",
    "                t.set_ha('center')\n",
    "            elif a > 0 and a < 180:\n",
    "                t.set_ha('left')\n",
    "            elif a == 180:\n",
    "                t.set_ha('center')\n",
    "            else:\n",
    "                t.set_ha('right')\n",
    "\n",
    "        self.ax.tick_params(axis='both', pad=15)\n",
    "\n",
    "\n",
    "    def _scale_data(self, data, ranges):\n",
    "        \"\"\"Scales data[1:] to ranges[0]\"\"\"\n",
    "        for d, (y1, y2) in zip(data[1:], ranges[1:]):\n",
    "            assert (y1 <= d <= y2) or (y2 <= d <= y1)\n",
    "        x1, x2 = ranges[0]\n",
    "        d = data[0]\n",
    "        sdata = [d]\n",
    "        for d, (y1, y2) in zip(data[1:], ranges[1:]):\n",
    "            sdata.append((d-y1) / (y2-y1) * (x2 - x1) + x1)\n",
    "        return sdata\n",
    "        \n",
    "    def plot(self, data, *args, **kwargs):\n",
    "        \"\"\"Plots a line\"\"\"\n",
    "        sdata = self._scale_data(data, self.ranges)\n",
    "        self.ax1.plot(self.angle, np.r_[sdata, sdata[0]], *args, **kwargs)\n",
    "        self.plot_counter = self.plot_counter+1\n",
    "    \n",
    "    def fill(self, data, *args, **kwargs):\n",
    "        \"\"\"Plots an area\"\"\"\n",
    "        sdata = self._scale_data(data, self.ranges)\n",
    "        self.ax1.fill(self.angle, np.r_[sdata, sdata[0]], *args, **kwargs)\n",
    "    \n",
    "    def fill_between(self, data, *args, **kwargs):\n",
    "        \"\"\"Plots an area\"\"\"\n",
    "        sdata1 = self._scale_data(data[0], self.ranges)\n",
    "        sdata2 = self._scale_data(data[1], self.ranges)\n",
    "        self.ax1.fill_between(self.angle, np.r_[sdata1, sdata1[0]], np.r_[sdata2, sdata2[0]], *args, **kwargs)\n",
    "        \n",
    "    def use_legend(self, *args, **kwargs):\n",
    "        \"\"\"Shows a legend\"\"\"\n",
    "        self.ax1.legend(*args, **kwargs)\n",
    "    \n",
    "    def set_title(self, title, pad=25, **kwargs):\n",
    "        \"\"\"Set a title\"\"\"\n",
    "        self.ax.set_title(title,pad=pad, **kwargs)"
   ]
  },
  {
   "cell_type": "code",
   "execution_count": 2,
   "metadata": {},
   "outputs": [],
   "source": [
    "data = pd.read_csv(\"acea_svi_results.csv\")"
   ]
  },
  {
   "cell_type": "code",
   "execution_count": 4,
   "metadata": {},
   "outputs": [
    {
     "data": {
      "text/html": [
       "<div>\n",
       "<style scoped>\n",
       "    .dataframe tbody tr th:only-of-type {\n",
       "        vertical-align: middle;\n",
       "    }\n",
       "\n",
       "    .dataframe tbody tr th {\n",
       "        vertical-align: top;\n",
       "    }\n",
       "\n",
       "    .dataframe thead th {\n",
       "        text-align: right;\n",
       "    }\n",
       "</style>\n",
       "<table border=\"1\" class=\"dataframe\">\n",
       "  <thead>\n",
       "    <tr style=\"text-align: right;\">\n",
       "      <th></th>\n",
       "      <th>Name</th>\n",
       "      <th>Agent</th>\n",
       "      <th>State</th>\n",
       "      <th>Notes</th>\n",
       "      <th>User</th>\n",
       "      <th>Tags</th>\n",
       "      <th>Created</th>\n",
       "      <th>Runtime</th>\n",
       "      <th>Sweep</th>\n",
       "      <th>activation</th>\n",
       "      <th>...</th>\n",
       "      <th>s_mse</th>\n",
       "      <th>s_new_cal_error</th>\n",
       "      <th>s_new_cov</th>\n",
       "      <th>s_new_crps</th>\n",
       "      <th>s_new_mse</th>\n",
       "      <th>s_new_width</th>\n",
       "      <th>s_train_time</th>\n",
       "      <th>s_width</th>\n",
       "      <th>train_time</th>\n",
       "      <th>white</th>\n",
       "    </tr>\n",
       "  </thead>\n",
       "  <tbody>\n",
       "    <tr>\n",
       "      <th>0</th>\n",
       "      <td>firm-sweep-303</td>\n",
       "      <td>13191fhd</td>\n",
       "      <td>finished</td>\n",
       "      <td>-</td>\n",
       "      <td>michele-uit</td>\n",
       "      <td>NaN</td>\n",
       "      <td>2023-03-30T23:27:40.000Z</td>\n",
       "      <td>54</td>\n",
       "      <td>c657qoid</td>\n",
       "      <td>tanh</td>\n",
       "      <td>...</td>\n",
       "      <td>0.149754</td>\n",
       "      <td>0.002584</td>\n",
       "      <td>0.111494</td>\n",
       "      <td>0.056838</td>\n",
       "      <td>0.837616</td>\n",
       "      <td>1.146401</td>\n",
       "      <td>0.155830</td>\n",
       "      <td>0.565141</td>\n",
       "      <td>NaN</td>\n",
       "      <td>NaN</td>\n",
       "    </tr>\n",
       "    <tr>\n",
       "      <th>1</th>\n",
       "      <td>jumping-sweep-79</td>\n",
       "      <td>13191fhd</td>\n",
       "      <td>finished</td>\n",
       "      <td>-</td>\n",
       "      <td>michele-uit</td>\n",
       "      <td>NaN</td>\n",
       "      <td>2023-03-30T12:23:20.000Z</td>\n",
       "      <td>53</td>\n",
       "      <td>c657qoid</td>\n",
       "      <td>relu</td>\n",
       "      <td>...</td>\n",
       "      <td>0.116027</td>\n",
       "      <td>0.011761</td>\n",
       "      <td>0.064354</td>\n",
       "      <td>0.062513</td>\n",
       "      <td>0.798454</td>\n",
       "      <td>0.461836</td>\n",
       "      <td>0.172936</td>\n",
       "      <td>0.211113</td>\n",
       "      <td>NaN</td>\n",
       "      <td>NaN</td>\n",
       "    </tr>\n",
       "    <tr>\n",
       "      <th>2</th>\n",
       "      <td>stellar-sweep-110</td>\n",
       "      <td>13191fhd</td>\n",
       "      <td>finished</td>\n",
       "      <td>-</td>\n",
       "      <td>michele-uit</td>\n",
       "      <td>NaN</td>\n",
       "      <td>2023-03-30T13:57:14.000Z</td>\n",
       "      <td>51</td>\n",
       "      <td>c657qoid</td>\n",
       "      <td>relu</td>\n",
       "      <td>...</td>\n",
       "      <td>0.174039</td>\n",
       "      <td>0.019609</td>\n",
       "      <td>0.153508</td>\n",
       "      <td>0.071338</td>\n",
       "      <td>0.734358</td>\n",
       "      <td>1.209354</td>\n",
       "      <td>0.153755</td>\n",
       "      <td>0.572974</td>\n",
       "      <td>NaN</td>\n",
       "      <td>NaN</td>\n",
       "    </tr>\n",
       "  </tbody>\n",
       "</table>\n",
       "<p>3 rows × 58 columns</p>\n",
       "</div>"
      ],
      "text/plain": [
       "                Name     Agent     State Notes         User  Tags  \\\n",
       "0     firm-sweep-303  13191fhd  finished     -  michele-uit   NaN   \n",
       "1   jumping-sweep-79  13191fhd  finished     -  michele-uit   NaN   \n",
       "2  stellar-sweep-110  13191fhd  finished     -  michele-uit   NaN   \n",
       "\n",
       "                    Created  Runtime     Sweep activation  ...     s_mse  \\\n",
       "0  2023-03-30T23:27:40.000Z       54  c657qoid       tanh  ...  0.149754   \n",
       "1  2023-03-30T12:23:20.000Z       53  c657qoid       relu  ...  0.116027   \n",
       "2  2023-03-30T13:57:14.000Z       51  c657qoid       relu  ...  0.174039   \n",
       "\n",
       "   s_new_cal_error s_new_cov  s_new_crps s_new_mse  s_new_width  s_train_time  \\\n",
       "0         0.002584  0.111494    0.056838  0.837616     1.146401      0.155830   \n",
       "1         0.011761  0.064354    0.062513  0.798454     0.461836      0.172936   \n",
       "2         0.019609  0.153508    0.071338  0.734358     1.209354      0.153755   \n",
       "\n",
       "    s_width train_time  white  \n",
       "0  0.565141        NaN    NaN  \n",
       "1  0.211113        NaN    NaN  \n",
       "2  0.572974        NaN    NaN  \n",
       "\n",
       "[3 rows x 58 columns]"
      ]
     },
     "execution_count": 4,
     "metadata": {},
     "output_type": "execute_result"
    }
   ],
   "source": [
    "data.head(3)"
   ]
  },
  {
   "cell_type": "code",
   "execution_count": 5,
   "metadata": {},
   "outputs": [
    {
     "data": {
      "text/html": [
       "<div>\n",
       "<style scoped>\n",
       "    .dataframe tbody tr th:only-of-type {\n",
       "        vertical-align: middle;\n",
       "    }\n",
       "\n",
       "    .dataframe tbody tr th {\n",
       "        vertical-align: top;\n",
       "    }\n",
       "\n",
       "    .dataframe thead th {\n",
       "        text-align: right;\n",
       "    }\n",
       "</style>\n",
       "<table border=\"1\" class=\"dataframe\">\n",
       "  <thead>\n",
       "    <tr style=\"text-align: right;\">\n",
       "      <th></th>\n",
       "      <th>Tags</th>\n",
       "      <th>Runtime</th>\n",
       "      <th>dropout_p</th>\n",
       "      <th>input_scaling</th>\n",
       "      <th>lr</th>\n",
       "      <th>num_chains</th>\n",
       "      <th>num_iterations</th>\n",
       "      <th>num_samples</th>\n",
       "      <th>seed</th>\n",
       "      <th>spectral_radius</th>\n",
       "      <th>...</th>\n",
       "      <th>s_mse</th>\n",
       "      <th>s_new_cal_error</th>\n",
       "      <th>s_new_cov</th>\n",
       "      <th>s_new_crps</th>\n",
       "      <th>s_new_mse</th>\n",
       "      <th>s_new_width</th>\n",
       "      <th>s_train_time</th>\n",
       "      <th>s_width</th>\n",
       "      <th>train_time</th>\n",
       "      <th>white</th>\n",
       "    </tr>\n",
       "  </thead>\n",
       "  <tbody>\n",
       "    <tr>\n",
       "      <th>count</th>\n",
       "      <td>0.0</td>\n",
       "      <td>10.000000</td>\n",
       "      <td>10.0</td>\n",
       "      <td>0.0</td>\n",
       "      <td>10.000000</td>\n",
       "      <td>10.0</td>\n",
       "      <td>10.0</td>\n",
       "      <td>10.0</td>\n",
       "      <td>10.0</td>\n",
       "      <td>0.0</td>\n",
       "      <td>...</td>\n",
       "      <td>10.000000</td>\n",
       "      <td>10.000000</td>\n",
       "      <td>10.000000</td>\n",
       "      <td>10.000000</td>\n",
       "      <td>10.000000</td>\n",
       "      <td>10.000000</td>\n",
       "      <td>10.000000</td>\n",
       "      <td>10.000000</td>\n",
       "      <td>0.0</td>\n",
       "      <td>0.0</td>\n",
       "    </tr>\n",
       "    <tr>\n",
       "      <th>mean</th>\n",
       "      <td>NaN</td>\n",
       "      <td>52.900000</td>\n",
       "      <td>0.0</td>\n",
       "      <td>NaN</td>\n",
       "      <td>0.053110</td>\n",
       "      <td>10.0</td>\n",
       "      <td>500.0</td>\n",
       "      <td>1000.0</td>\n",
       "      <td>10.0</td>\n",
       "      <td>NaN</td>\n",
       "      <td>...</td>\n",
       "      <td>0.185937</td>\n",
       "      <td>0.012164</td>\n",
       "      <td>0.107067</td>\n",
       "      <td>0.078598</td>\n",
       "      <td>1.239829</td>\n",
       "      <td>1.105039</td>\n",
       "      <td>0.159120</td>\n",
       "      <td>0.558497</td>\n",
       "      <td>NaN</td>\n",
       "      <td>NaN</td>\n",
       "    </tr>\n",
       "    <tr>\n",
       "      <th>std</th>\n",
       "      <td>NaN</td>\n",
       "      <td>1.197219</td>\n",
       "      <td>0.0</td>\n",
       "      <td>NaN</td>\n",
       "      <td>0.015053</td>\n",
       "      <td>0.0</td>\n",
       "      <td>0.0</td>\n",
       "      <td>0.0</td>\n",
       "      <td>0.0</td>\n",
       "      <td>NaN</td>\n",
       "      <td>...</td>\n",
       "      <td>0.040265</td>\n",
       "      <td>0.005878</td>\n",
       "      <td>0.027246</td>\n",
       "      <td>0.014784</td>\n",
       "      <td>0.515979</td>\n",
       "      <td>0.334078</td>\n",
       "      <td>0.009768</td>\n",
       "      <td>0.169233</td>\n",
       "      <td>NaN</td>\n",
       "      <td>NaN</td>\n",
       "    </tr>\n",
       "    <tr>\n",
       "      <th>min</th>\n",
       "      <td>NaN</td>\n",
       "      <td>51.000000</td>\n",
       "      <td>0.0</td>\n",
       "      <td>NaN</td>\n",
       "      <td>0.030547</td>\n",
       "      <td>10.0</td>\n",
       "      <td>500.0</td>\n",
       "      <td>1000.0</td>\n",
       "      <td>10.0</td>\n",
       "      <td>NaN</td>\n",
       "      <td>...</td>\n",
       "      <td>0.116027</td>\n",
       "      <td>0.002584</td>\n",
       "      <td>0.064354</td>\n",
       "      <td>0.056838</td>\n",
       "      <td>0.422742</td>\n",
       "      <td>0.461836</td>\n",
       "      <td>0.143522</td>\n",
       "      <td>0.211113</td>\n",
       "      <td>NaN</td>\n",
       "      <td>NaN</td>\n",
       "    </tr>\n",
       "    <tr>\n",
       "      <th>25%</th>\n",
       "      <td>NaN</td>\n",
       "      <td>52.250000</td>\n",
       "      <td>0.0</td>\n",
       "      <td>NaN</td>\n",
       "      <td>0.040245</td>\n",
       "      <td>10.0</td>\n",
       "      <td>500.0</td>\n",
       "      <td>1000.0</td>\n",
       "      <td>10.0</td>\n",
       "      <td>NaN</td>\n",
       "      <td>...</td>\n",
       "      <td>0.163035</td>\n",
       "      <td>0.008275</td>\n",
       "      <td>0.089795</td>\n",
       "      <td>0.066413</td>\n",
       "      <td>0.808244</td>\n",
       "      <td>1.013761</td>\n",
       "      <td>0.154274</td>\n",
       "      <td>0.505912</td>\n",
       "      <td>NaN</td>\n",
       "      <td>NaN</td>\n",
       "    </tr>\n",
       "    <tr>\n",
       "      <th>50%</th>\n",
       "      <td>NaN</td>\n",
       "      <td>53.000000</td>\n",
       "      <td>0.0</td>\n",
       "      <td>NaN</td>\n",
       "      <td>0.055024</td>\n",
       "      <td>10.0</td>\n",
       "      <td>500.0</td>\n",
       "      <td>1000.0</td>\n",
       "      <td>10.0</td>\n",
       "      <td>NaN</td>\n",
       "      <td>...</td>\n",
       "      <td>0.182927</td>\n",
       "      <td>0.011060</td>\n",
       "      <td>0.106544</td>\n",
       "      <td>0.083131</td>\n",
       "      <td>1.294132</td>\n",
       "      <td>1.102564</td>\n",
       "      <td>0.158191</td>\n",
       "      <td>0.569058</td>\n",
       "      <td>NaN</td>\n",
       "      <td>NaN</td>\n",
       "    </tr>\n",
       "    <tr>\n",
       "      <th>75%</th>\n",
       "      <td>NaN</td>\n",
       "      <td>54.000000</td>\n",
       "      <td>0.0</td>\n",
       "      <td>NaN</td>\n",
       "      <td>0.063508</td>\n",
       "      <td>10.0</td>\n",
       "      <td>500.0</td>\n",
       "      <td>1000.0</td>\n",
       "      <td>10.0</td>\n",
       "      <td>NaN</td>\n",
       "      <td>...</td>\n",
       "      <td>0.212901</td>\n",
       "      <td>0.017356</td>\n",
       "      <td>0.115646</td>\n",
       "      <td>0.084802</td>\n",
       "      <td>1.714082</td>\n",
       "      <td>1.193616</td>\n",
       "      <td>0.163263</td>\n",
       "      <td>0.612800</td>\n",
       "      <td>NaN</td>\n",
       "      <td>NaN</td>\n",
       "    </tr>\n",
       "    <tr>\n",
       "      <th>max</th>\n",
       "      <td>NaN</td>\n",
       "      <td>54.000000</td>\n",
       "      <td>0.0</td>\n",
       "      <td>NaN</td>\n",
       "      <td>0.074206</td>\n",
       "      <td>10.0</td>\n",
       "      <td>500.0</td>\n",
       "      <td>1000.0</td>\n",
       "      <td>10.0</td>\n",
       "      <td>NaN</td>\n",
       "      <td>...</td>\n",
       "      <td>0.245610</td>\n",
       "      <td>0.020233</td>\n",
       "      <td>0.153508</td>\n",
       "      <td>0.106481</td>\n",
       "      <td>1.813408</td>\n",
       "      <td>1.765293</td>\n",
       "      <td>0.174624</td>\n",
       "      <td>0.881773</td>\n",
       "      <td>NaN</td>\n",
       "      <td>NaN</td>\n",
       "    </tr>\n",
       "  </tbody>\n",
       "</table>\n",
       "<p>8 rows × 40 columns</p>\n",
       "</div>"
      ],
      "text/plain": [
       "       Tags    Runtime  dropout_p  input_scaling         lr  num_chains  \\\n",
       "count   0.0  10.000000       10.0            0.0  10.000000        10.0   \n",
       "mean    NaN  52.900000        0.0            NaN   0.053110        10.0   \n",
       "std     NaN   1.197219        0.0            NaN   0.015053         0.0   \n",
       "min     NaN  51.000000        0.0            NaN   0.030547        10.0   \n",
       "25%     NaN  52.250000        0.0            NaN   0.040245        10.0   \n",
       "50%     NaN  53.000000        0.0            NaN   0.055024        10.0   \n",
       "75%     NaN  54.000000        0.0            NaN   0.063508        10.0   \n",
       "max     NaN  54.000000        0.0            NaN   0.074206        10.0   \n",
       "\n",
       "       num_iterations  num_samples  seed  spectral_radius  ...      s_mse  \\\n",
       "count            10.0         10.0  10.0              0.0  ...  10.000000   \n",
       "mean            500.0       1000.0  10.0              NaN  ...   0.185937   \n",
       "std               0.0          0.0   0.0              NaN  ...   0.040265   \n",
       "min             500.0       1000.0  10.0              NaN  ...   0.116027   \n",
       "25%             500.0       1000.0  10.0              NaN  ...   0.163035   \n",
       "50%             500.0       1000.0  10.0              NaN  ...   0.182927   \n",
       "75%             500.0       1000.0  10.0              NaN  ...   0.212901   \n",
       "max             500.0       1000.0  10.0              NaN  ...   0.245610   \n",
       "\n",
       "       s_new_cal_error  s_new_cov  s_new_crps  s_new_mse  s_new_width  \\\n",
       "count        10.000000  10.000000   10.000000  10.000000    10.000000   \n",
       "mean          0.012164   0.107067    0.078598   1.239829     1.105039   \n",
       "std           0.005878   0.027246    0.014784   0.515979     0.334078   \n",
       "min           0.002584   0.064354    0.056838   0.422742     0.461836   \n",
       "25%           0.008275   0.089795    0.066413   0.808244     1.013761   \n",
       "50%           0.011060   0.106544    0.083131   1.294132     1.102564   \n",
       "75%           0.017356   0.115646    0.084802   1.714082     1.193616   \n",
       "max           0.020233   0.153508    0.106481   1.813408     1.765293   \n",
       "\n",
       "       s_train_time    s_width  train_time  white  \n",
       "count     10.000000  10.000000         0.0    0.0  \n",
       "mean       0.159120   0.558497         NaN    NaN  \n",
       "std        0.009768   0.169233         NaN    NaN  \n",
       "min        0.143522   0.211113         NaN    NaN  \n",
       "25%        0.154274   0.505912         NaN    NaN  \n",
       "50%        0.158191   0.569058         NaN    NaN  \n",
       "75%        0.163263   0.612800         NaN    NaN  \n",
       "max        0.174624   0.881773         NaN    NaN  \n",
       "\n",
       "[8 rows x 40 columns]"
      ]
     },
     "execution_count": 5,
     "metadata": {},
     "output_type": "execute_result"
    }
   ],
   "source": [
    "data.describe()"
   ]
  },
  {
   "cell_type": "code",
   "execution_count": 3,
   "metadata": {},
   "outputs": [],
   "source": [
    "variable = data.describe()[[\"m_cal_error\",\"m_width\",\"m_cov\",\"m_mse\",\"m_crps\"]].T[[\"mean\"]]\n",
    "variable1 = data.describe()[[\"m_cal_error\",\"m_width\",\"m_cov\",\"m_mse\",\"m_crps\"]].T[[\"min\",\"max\"]]\n",
    "variable2 = data.describe()[[\"m_new_cal_error\",\"m_new_width\",\"m_new_cov\",\"m_new_mse\",\"m_new_crps\"]].rename(columns={'m_new_cal_error':'m_cal_error','m_new_width':'m_width','m_new_cov':'m_cov','m_new_mse':'m_mse','m_new_crps':'m_crps'}).T[[\"min\",\"max\"]]"
   ]
  },
  {
   "cell_type": "code",
   "execution_count": 4,
   "metadata": {},
   "outputs": [],
   "source": [
    "min_max_per_variable = variable1.copy()"
   ]
  },
  {
   "cell_type": "code",
   "execution_count": 8,
   "metadata": {},
   "outputs": [
    {
     "data": {
      "text/html": [
       "<div>\n",
       "<style scoped>\n",
       "    .dataframe tbody tr th:only-of-type {\n",
       "        vertical-align: middle;\n",
       "    }\n",
       "\n",
       "    .dataframe tbody tr th {\n",
       "        vertical-align: top;\n",
       "    }\n",
       "\n",
       "    .dataframe thead th {\n",
       "        text-align: right;\n",
       "    }\n",
       "</style>\n",
       "<table border=\"1\" class=\"dataframe\">\n",
       "  <thead>\n",
       "    <tr style=\"text-align: right;\">\n",
       "      <th></th>\n",
       "      <th>min</th>\n",
       "      <th>max</th>\n",
       "    </tr>\n",
       "  </thead>\n",
       "  <tbody>\n",
       "    <tr>\n",
       "      <th>m_cal_error</th>\n",
       "      <td>1.183401</td>\n",
       "      <td>2.217376</td>\n",
       "    </tr>\n",
       "    <tr>\n",
       "      <th>m_width</th>\n",
       "      <td>2.413929</td>\n",
       "      <td>3.095649</td>\n",
       "    </tr>\n",
       "    <tr>\n",
       "      <th>m_cov</th>\n",
       "      <td>0.969045</td>\n",
       "      <td>0.981202</td>\n",
       "    </tr>\n",
       "    <tr>\n",
       "      <th>m_mse</th>\n",
       "      <td>0.238281</td>\n",
       "      <td>0.371833</td>\n",
       "    </tr>\n",
       "    <tr>\n",
       "      <th>m_crps</th>\n",
       "      <td>0.278214</td>\n",
       "      <td>0.339566</td>\n",
       "    </tr>\n",
       "  </tbody>\n",
       "</table>\n",
       "</div>"
      ],
      "text/plain": [
       "                  min       max\n",
       "m_cal_error  1.183401  2.217376\n",
       "m_width      2.413929  3.095649\n",
       "m_cov        0.969045  0.981202\n",
       "m_mse        0.238281  0.371833\n",
       "m_crps       0.278214  0.339566"
      ]
     },
     "execution_count": 8,
     "metadata": {},
     "output_type": "execute_result"
    }
   ],
   "source": [
    "variable1"
   ]
  },
  {
   "cell_type": "code",
   "execution_count": 9,
   "metadata": {},
   "outputs": [
    {
     "data": {
      "text/html": [
       "<div>\n",
       "<style scoped>\n",
       "    .dataframe tbody tr th:only-of-type {\n",
       "        vertical-align: middle;\n",
       "    }\n",
       "\n",
       "    .dataframe tbody tr th {\n",
       "        vertical-align: top;\n",
       "    }\n",
       "\n",
       "    .dataframe thead th {\n",
       "        text-align: right;\n",
       "    }\n",
       "</style>\n",
       "<table border=\"1\" class=\"dataframe\">\n",
       "  <thead>\n",
       "    <tr style=\"text-align: right;\">\n",
       "      <th></th>\n",
       "      <th>min</th>\n",
       "      <th>max</th>\n",
       "    </tr>\n",
       "  </thead>\n",
       "  <tbody>\n",
       "    <tr>\n",
       "      <th>m_cal_error</th>\n",
       "      <td>0.007193</td>\n",
       "      <td>0.021401</td>\n",
       "    </tr>\n",
       "    <tr>\n",
       "      <th>m_width</th>\n",
       "      <td>2.869251</td>\n",
       "      <td>4.066238</td>\n",
       "    </tr>\n",
       "    <tr>\n",
       "      <th>m_cov</th>\n",
       "      <td>0.940963</td>\n",
       "      <td>0.959266</td>\n",
       "    </tr>\n",
       "    <tr>\n",
       "      <th>m_mse</th>\n",
       "      <td>0.752395</td>\n",
       "      <td>2.128568</td>\n",
       "    </tr>\n",
       "    <tr>\n",
       "      <th>m_crps</th>\n",
       "      <td>0.274611</td>\n",
       "      <td>0.338097</td>\n",
       "    </tr>\n",
       "  </tbody>\n",
       "</table>\n",
       "</div>"
      ],
      "text/plain": [
       "                  min       max\n",
       "m_cal_error  0.007193  0.021401\n",
       "m_width      2.869251  4.066238\n",
       "m_cov        0.940963  0.959266\n",
       "m_mse        0.752395  2.128568\n",
       "m_crps       0.274611  0.338097"
      ]
     },
     "execution_count": 9,
     "metadata": {},
     "output_type": "execute_result"
    }
   ],
   "source": [
    "variable2"
   ]
  },
  {
   "cell_type": "code",
   "execution_count": 15,
   "metadata": {},
   "outputs": [
    {
     "data": {
      "text/html": [
       "<div>\n",
       "<style scoped>\n",
       "    .dataframe tbody tr th:only-of-type {\n",
       "        vertical-align: middle;\n",
       "    }\n",
       "\n",
       "    .dataframe tbody tr th {\n",
       "        vertical-align: top;\n",
       "    }\n",
       "\n",
       "    .dataframe thead th {\n",
       "        text-align: right;\n",
       "    }\n",
       "</style>\n",
       "<table border=\"1\" class=\"dataframe\">\n",
       "  <thead>\n",
       "    <tr style=\"text-align: right;\">\n",
       "      <th></th>\n",
       "      <th>mean</th>\n",
       "    </tr>\n",
       "  </thead>\n",
       "  <tbody>\n",
       "    <tr>\n",
       "      <th>m_cal_error</th>\n",
       "      <td>1.830282</td>\n",
       "    </tr>\n",
       "    <tr>\n",
       "      <th>m_width</th>\n",
       "      <td>2.835560</td>\n",
       "    </tr>\n",
       "    <tr>\n",
       "      <th>m_cov</th>\n",
       "      <td>0.975118</td>\n",
       "    </tr>\n",
       "    <tr>\n",
       "      <th>m_mse</th>\n",
       "      <td>0.299564</td>\n",
       "    </tr>\n",
       "    <tr>\n",
       "      <th>m_crps</th>\n",
       "      <td>0.311240</td>\n",
       "    </tr>\n",
       "  </tbody>\n",
       "</table>\n",
       "</div>"
      ],
      "text/plain": [
       "                 mean\n",
       "m_cal_error  1.830282\n",
       "m_width      2.835560\n",
       "m_cov        0.975118\n",
       "m_mse        0.299564\n",
       "m_crps       0.311240"
      ]
     },
     "execution_count": 15,
     "metadata": {},
     "output_type": "execute_result"
    }
   ],
   "source": [
    "variable"
   ]
  },
  {
   "cell_type": "code",
   "execution_count": 5,
   "metadata": {},
   "outputs": [],
   "source": [
    "min_max_per_variable[\"min\"] = np.minimum(variable1[\"min\"], variable2[\"min\"]).apply(lambda x: int(x))\n",
    "min_max_per_variable[\"max\"] = np.maximum(variable1[\"max\"], variable2[\"max\"]).apply(lambda x: math.ceil(x))"
   ]
  },
  {
   "cell_type": "code",
   "execution_count": 11,
   "metadata": {},
   "outputs": [
    {
     "data": {
      "text/html": [
       "<div>\n",
       "<style scoped>\n",
       "    .dataframe tbody tr th:only-of-type {\n",
       "        vertical-align: middle;\n",
       "    }\n",
       "\n",
       "    .dataframe tbody tr th {\n",
       "        vertical-align: top;\n",
       "    }\n",
       "\n",
       "    .dataframe thead th {\n",
       "        text-align: right;\n",
       "    }\n",
       "</style>\n",
       "<table border=\"1\" class=\"dataframe\">\n",
       "  <thead>\n",
       "    <tr style=\"text-align: right;\">\n",
       "      <th></th>\n",
       "      <th>min</th>\n",
       "      <th>max</th>\n",
       "    </tr>\n",
       "  </thead>\n",
       "  <tbody>\n",
       "    <tr>\n",
       "      <th>m_cal_error</th>\n",
       "      <td>0</td>\n",
       "      <td>3</td>\n",
       "    </tr>\n",
       "    <tr>\n",
       "      <th>m_width</th>\n",
       "      <td>2</td>\n",
       "      <td>5</td>\n",
       "    </tr>\n",
       "    <tr>\n",
       "      <th>m_cov</th>\n",
       "      <td>0</td>\n",
       "      <td>1</td>\n",
       "    </tr>\n",
       "    <tr>\n",
       "      <th>m_mse</th>\n",
       "      <td>0</td>\n",
       "      <td>3</td>\n",
       "    </tr>\n",
       "    <tr>\n",
       "      <th>m_crps</th>\n",
       "      <td>0</td>\n",
       "      <td>1</td>\n",
       "    </tr>\n",
       "  </tbody>\n",
       "</table>\n",
       "</div>"
      ],
      "text/plain": [
       "             min  max\n",
       "m_cal_error    0    3\n",
       "m_width        2    5\n",
       "m_cov          0    1\n",
       "m_mse          0    3\n",
       "m_crps         0    1"
      ]
     },
     "execution_count": 11,
     "metadata": {},
     "output_type": "execute_result"
    }
   ],
   "source": [
    "min_max_per_variable"
   ]
  },
  {
   "cell_type": "code",
   "execution_count": 6,
   "metadata": {},
   "outputs": [],
   "source": [
    "result = variable.copy()\n",
    "# result['min2'] = variable2['min']\n",
    "# result['max2'] = variable2['max']\n",
    "result = result.T"
   ]
  },
  {
   "cell_type": "code",
   "execution_count": 19,
   "metadata": {},
   "outputs": [
    {
     "data": {
      "text/html": [
       "<div>\n",
       "<style scoped>\n",
       "    .dataframe tbody tr th:only-of-type {\n",
       "        vertical-align: middle;\n",
       "    }\n",
       "\n",
       "    .dataframe tbody tr th {\n",
       "        vertical-align: top;\n",
       "    }\n",
       "\n",
       "    .dataframe thead th {\n",
       "        text-align: right;\n",
       "    }\n",
       "</style>\n",
       "<table border=\"1\" class=\"dataframe\">\n",
       "  <thead>\n",
       "    <tr style=\"text-align: right;\">\n",
       "      <th></th>\n",
       "      <th>m_cal_error</th>\n",
       "      <th>m_width</th>\n",
       "      <th>m_cov</th>\n",
       "      <th>m_mse</th>\n",
       "      <th>m_crps</th>\n",
       "    </tr>\n",
       "  </thead>\n",
       "  <tbody>\n",
       "    <tr>\n",
       "      <th>mean</th>\n",
       "      <td>1.830282</td>\n",
       "      <td>2.83556</td>\n",
       "      <td>0.975118</td>\n",
       "      <td>0.299564</td>\n",
       "      <td>0.31124</td>\n",
       "    </tr>\n",
       "  </tbody>\n",
       "</table>\n",
       "</div>"
      ],
      "text/plain": [
       "      m_cal_error  m_width     m_cov     m_mse   m_crps\n",
       "mean     1.830282  2.83556  0.975118  0.299564  0.31124"
      ]
     },
     "execution_count": 19,
     "metadata": {},
     "output_type": "execute_result"
    }
   ],
   "source": [
    "result"
   ]
  },
  {
   "cell_type": "code",
   "execution_count": 20,
   "metadata": {},
   "outputs": [
    {
     "data": {
      "image/png": "[encoded data removed]",
      "text/plain": [
       "<Figure size 600x600 with 6 Axes>"
      ]
     },
     "metadata": {},
     "output_type": "display_data"
    }
   ],
   "source": [
    "variables = result.columns\n",
    "ranges = list(min_max_per_variable.itertuples(index=False, name=None))\n",
    "\n",
    "fig1 = plt.figure(figsize=(6, 6))\n",
    "radar = ComplexRadar(fig1, variables, ranges, show_scales=True)\n",
    "\n",
    "colors = ['b','b','r','r']\n",
    "\n",
    "for g in range(0, len(result.index), 2):\n",
    "    # label = \"pre-calibration\" if g<2 else \"post-calibration\"\n",
    "    label = \"mean\"\n",
    "    radar.plot(result.loc[result.index[g]].values, label=label, color=colors[g])\n",
    "    # radar.plot(result.loc[result.index[g+1]].values, label='_nolegend_', color=colors[g])\n",
    "    # radar.fill_between((result.loc[result.index[g]].values,result.loc[result.index[g+1]].values), facecolor=colors[g], alpha=0.25, label='_nolegend_')\n",
    "\n",
    "radar.set_title(\"Radar chart solution with different scales\")\n",
    "radar.use_legend(loc='lower left', bbox_to_anchor=(0.15, -0.25),ncol=radar.plot_counter)\n",
    "plt.show()"
   ]
  },
  {
   "attachments": {},
   "cell_type": "markdown",
   "metadata": {},
   "source": [
    "# Parallel coordinates\n",
    "\n",
    "https://en.wikipedia.org/wiki/Parallel_coordinates\n",
    "\n",
    "https://stackoverflow.com/a/60401570"
   ]
  },
  {
   "cell_type": "code",
   "execution_count": 1,
   "metadata": {},
   "outputs": [],
   "source": [
    "import numpy as np\n",
    "import matplotlib\n",
    "import matplotlib.pyplot as plt\n",
    "from matplotlib.path import Path\n",
    "import matplotlib.patches as patches\n",
    "import pandas as pd\n",
    "\n",
    "matplotlib.rcParams['mathtext.fontset'] = 'stix'\n",
    "matplotlib.rcParams['font.family'] = 'STIXGeneral'\n",
    "matplotlib.rcParams['font.size'] = 18"
   ]
  },
  {
   "cell_type": "code",
   "execution_count": 2,
   "metadata": {},
   "outputs": [],
   "source": [
    "# SVI acea\n",
    "data = {\"min\":[0.39351414381897054-0.010048216968355686, 0.32050878954054074-0.0029827585759533504, 0.5681579855818824-0.04871366099546248, 3.10895919123352-0.012750511844521374, 0.9666283084004604-0.0013534544506618434],\n",
    "        \"max\":[0.39351414381897054+0.010048216968355686, 0.32050878954054074+0.0029827585759533504, 0.5681579855818824+0.04871366099546248, 3.10895919123352+0.012750511844521374, 0.9666283084004604+0.0013534544506618434],\n",
    "        \"min2\":[0.39068762249360134-0.0090957195371046, 0.3335404304320191-0.005057308190339864, 0.01715428556147478-0.003619548010940952, 2.890194583397649-0.047985924998171385, 0.9607978519370924-0.003236901334835418],\n",
    "        \"max2\":[0.39068762249360134+0.0090957195371046, 0.3335404304320191+0.005057308190339864, 0.01715428556147478+0.003619548010940952, 2.890194583397649+0.047985924998171385, 0.9607978519370924+0.003236901334835418]}"
   ]
  },
  {
   "cell_type": "code",
   "execution_count": 6,
   "metadata": {},
   "outputs": [],
   "source": [
    "# SVI SPAIN\n",
    "data = {\"min\":[0.45321007119598394-0.048050369710414736, 0.3879571347592224-0.02305707237302801, 0.5281323209757274-0.2797781446284038, 3.5527213212733506-0.09397552094984822, 0.972087912087912-0.0034119065266505423],\n",
    "        \"max\":[0.45321007119598394+0.048050369710414736, 0.3879571347592224+0.02305707237302801, 0.5281323209757274+0.2797781446284038, 3.5527213212733506+0.09397552094984822, 0.972087912087912+0.0034119065266505423],\n",
    "        \"min2\":[0.42010463607927584-0.006629146517314301, 0.39456997621794426-0.017720029430451447, 0.0741081209998792-0.008676188586240665, 3.0942798341735593-0.0845664568783579, 0.9553846153846154-0.0035506581145941965],\n",
    "        \"max2\":[0.42010463607927584+0.006629146517314301, 0.39456997621794426+0.017720029430451447, 0.0741081209998792+0.008676188586240665, 3.0942798341735593+0.0845664568783579, 0.9553846153846154+0.0035506581145941965]}"
   ]
  },
  {
   "cell_type": "code",
   "execution_count": 10,
   "metadata": {},
   "outputs": [],
   "source": [
    "# dropout acea run 8420\n",
    "data = {\"min\":[0.5786273651142643-0.11205992815962186, 0.20118250074711308-0.01721450728978099, 5.455590414514022-0.4538402397360632, 0.32467044780071236-0.03504243423289656, 0.1483241037598368-0.03034951868109081],\n",
    "        \"max\":[0.5786273651142643+0.11205992815962186, 0.20118250074711308+0.01721450728978099, 5.455590414514022+0.4538402397360632, 0.32467044780071236+0.03504243423289656, 0.1483241037598368+0.03034951868109081],\n",
    "        \"min2\":[0.568860429367499-0.1176646383694355, 0.19741196401739125-0.01787305125084482, 4.431585785045245-0.31774152183359183, 0.5151175602418496-0.05362643625547348, 0.2189449140192364-0.040286043886622304],\n",
    "        \"max2\":[0.568860429367499+0.1176646383694355, 0.19741196401739125+0.01787305125084482, 4.431585785045245+0.31774152183359183, 0.5151175602418496+0.05362643625547348, 0.2189449140192364+0.040286043886622304]}"
   ]
  },
  {
   "cell_type": "code",
   "execution_count": 14,
   "metadata": {},
   "outputs": [],
   "source": [
    "# dropout spain run 295\n",
    "data = {\"min\":[0.8638325889008872-0.039353342834888845, 0.2623567270937137-0.015045107136093716, 2.4330950307933827-0.14862111584505086, 0.4823021779509421-0.03493662232516165, 0.24505494505494507-0.019065221508678537],\n",
    "        \"max\":[0.8638325889008872+0.039353342834888845, 0.2623567270937137+0.015045107136093716, 2.4330950307933827+0.14862111584505086, 0.4823021779509421+0.03493662232516165, 0.24505494505494507+0.019065221508678537],\n",
    "        \"min2\":[0.8942573378050873-0.04857497856158323, 0.25878355452689095-0.014572722025272116, 1.161634120275329-0.16811164256963806, 0.788664279520898-0.058197380723722526, 0.381978021978022-0.02997080252084534],\n",
    "        \"max2\":[0.8942573378050873+0.04857497856158323, 0.25878355452689095+0.014572722025272116, 1.161634120275329+0.16811164256963806, 0.788664279520898+0.058197380723722526, 0.381978021978022+0.02997080252084534]}"
   ]
  },
  {
   "cell_type": "code",
   "execution_count": 18,
   "metadata": {},
   "outputs": [],
   "source": [
    "# mcmc no dim red acea\n",
    "data = {\"min\":[0.6853621889462517-0.3998218091443045, 0.6729795458797574-0.12378335592579016, 1.6987378703619616-0.5369542193946607, 9.642484960666044-5.123982614910528, 0.9945788399883416-0.004325411007657034],\n",
    "        \"max\":[0.6853621889462517+0.3998218091443045, 0.6729795458797574+0.12378335592579016, 1.6987378703619616+0.5369542193946607, 9.642484960666044+5.123982614910528, 0.9945788399883416+0.004325411007657034],\n",
    "        \"min2\":[0.707030910018669-0.47630336249310257, 0.47630336249310257-0.14460206269302472, 1.7032193354545675-1.1188827402662456, 3.1518782683926263-0.6955318873992726, 0.8087438064704168-0.16675369945333146],\n",
    "        \"max2\":[0.707030910018669+0.47630336249310257, 0.47630336249310257+0.14460206269302472, 1.7032193354545675+1.1188827402662456, 3.1518782683926263+0.6955318873992726, 0.8087438064704168+0.16675369945333146]}"
   ]
  },
  {
   "cell_type": "code",
   "execution_count": 22,
   "metadata": {},
   "outputs": [],
   "source": [
    "# mcmc no dim red spain\n",
    "data = {\"min\":[1.02150052606676-1.0721657761277148, 0.57977440031648-0.23725837307203929, 0.4388813850984182-0.29779958572015247, 5.945067623654076-2.886546283922636, 0.9661538461538464-0.020877964109077683],\n",
    "        \"max\":[1.02150052606676+1.0721657761277148, 0.57977440031648+0.23725837307203929, 0.4388813850984182+0.29779958572015247, 5.945067623654076+2.886546283922636, 0.9661538461538464+0.020877964109077683],\n",
    "        \"min2\":[0.9183253835148952-0.8763384379637383, 0.621273701052542-0.2548547305348419, 0.052897325202270216-0.02825691912645602, 4.279292378780376-1.4573465310773868, 0.9371428571428572-0.009282950365689144],\n",
    "        \"max2\":[0.9183253835148952+0.8763384379637383, 0.621273701052542+0.2548547305348419, 0.052897325202270216+0.02825691912645602, 4.279292378780376+1.4573465310773868, 0.9371428571428572+0.009282950365689144]}"
   ]
  },
  {
   "cell_type": "code",
   "execution_count": 26,
   "metadata": {},
   "outputs": [],
   "source": [
    "# mcmc with dim red acea\n",
    "data = {\"min\":[0.6151270330230489-0.17363750577125237, 0.4400971670604122-0.10957709126541404, 0.4661018548752834-0.06348145338567912, 4.798745585001056-1.9731151681346808, 0.9779428571428572-0.01004833669294501],\n",
    "        \"max\":[0.6151270330230489+0.17363750577125237, 0.4400971670604122+0.10957709126541404, 0.4661018548752834+0.06348145338567912, 4.798745585001056+1.9731151681346808, 0.9779428571428572+0.01004833669294501],\n",
    "        \"min2\":[0.6131607988540126-0.17448636619978625, 0.4569209885096831-0.11427182172306984, 0.007581328798185935-0.0022130390909862155, 3.7224727277673777-0.6336275962066475, 0.9666666666666666-0.0027812132950009753],\n",
    "        \"max2\":[0.6131607988540126+0.17448636619978625, 0.4569209885096831+0.11427182172306984, 0.007581328798185935+0.0022130390909862155, 3.7224727277673777+0.6336275962066475, 0.9666666666666666+0.0027812132950009753]}"
   ]
  },
  {
   "cell_type": "code",
   "execution_count": 30,
   "metadata": {},
   "outputs": [],
   "source": [
    "# mcmc with dim red spain\n",
    "data = {\"min\":[1.344013064098141-0.39730625660318847, 0.6817018786899769-0.14845452270820267, 0.0960364629875618-0.09892380202037555, 4.765569630118518-1.762706653063686, 0.9147252747252748-0.015689290811054708],\n",
    "        \"max\":[1.344013064098141+0.39730625660318847, 0.6817018786899769+0.14845452270820267, 0.0960364629875618+0.09892380202037555, 4.765569630118518+1.762706653063686, 0.9147252747252748+0.015689290811054708],\n",
    "        \"min2\":[1.3136794941714054-0.3397707789858541, 0.6632273285142156-0.12621475568567755, 0.014762220746286673-0.001871529857215856, 5.226294573225026-1.1304337116789105, 0.9424175824175824-0.012307692307692328],\n",
    "        \"max2\":[1.3136794941714054+0.3397707789858541, 0.6632273285142156+0.12621475568567755, 0.014762220746286673+0.001871529857215856, 5.226294573225026+1.1304337116789105, 0.9424175824175824+0.012307692307692328]}"
   ]
  },
  {
   "cell_type": "code",
   "execution_count": 34,
   "metadata": {},
   "outputs": [],
   "source": [
    "# ssvs acea\n",
    "data = {\"min\":[1.3611559519786949-0.4342473694916216, 2.03364171275579-1.3133681549804117, 2.9474652023218946-0.7838872065567921, 3.0800878104909475-1.9317629603711608, 0.6532206353832702-0.2057733397151771],\n",
    "        \"max\":[1.3611559519786949+0.4342473694916216, 2.03364171275579+1.3133681549804117, 2.9474652023218946+0.7838872065567921, 3.0800878104909475+1.9317629603711608, 0.6532206353832702+0.2057733397151771],\n",
    "        \"min2\":[1.3640225310101548-0.4076562345030389, 1.7497273293830111-0.7929525812540993, 3.3312699396080157-0.0875386851413486, 2.269745713185531-0.9264549831381962, 0.5039930049548237-0.05630703605515333],\n",
    "        \"max2\":[1.3640225310101548+0.4076562345030389, 1.7497273293830111+0.7929525812540993, 3.3312699396080157+0.0875386851413486, 2.269745713185531+0.9264549831381962, 0.5039930049548237+0.05630703605515333]}"
   ]
  },
  {
   "cell_type": "code",
   "execution_count": 38,
   "metadata": {},
   "outputs": [],
   "source": [
    "# ssvs spain\n",
    "data = {\"min\":[0.9819395641750092-0.2355960994869753, 0.7533900900300368-0.27643831240789307, 0.5083413537012437-0.35083652891259753, 8.133437336542064-9.202926035836835, 0.9367032967032968-0.025570179467690524],\n",
    "        \"max\":[0.9819395641750092+0.2355960994869753, 0.7533900900300368+0.27643831240789307, 0.5083413537012437+0.35083652891259753, 8.133437336542064+9.202926035836835, 0.9367032967032968+0.025570179467690524],\n",
    "        \"min2\":[0.8609646694983013-0.10182541280433284, 0.6555106672704099-0.23234885305130024, 0.02703402366863903-0.007300665058173293, 4.860272960919067-2.7956053175446343, 0.9309890109890112-0.005831428202822661],\n",
    "        \"max2\":[0.8609646694983013+0.10182541280433284, 0.6555106672704099+0.23234885305130024, 0.02703402366863903+0.007300665058173293, 4.860272960919067+2.7956053175446343, 0.9309890109890112+0.005831428202822661]}"
   ]
  },
  {
   "cell_type": "code",
   "execution_count": 84,
   "metadata": {},
   "outputs": [],
   "source": [
    "# qr acea run 269\n",
    "data = {\"min\":[0.1061469316482544-0.001311422442086041, 0.1589135702952164-0.001720997326170403, 0.004482620456667341-0.0029866046108213825, 1.109632968902588-0.02835713326931, 0.9481164383561642-0.0026772455497547825],\n",
    "        \"max\":[0.1061469316482544+0.001311422442086041, 0.1589135702952164+0.001720997326170403, 0.004482620456667341+0.0029866046108213825, 1.109632968902588+0.02835713326931, 0.9481164383561642+0.0026772455497547825],\n",
    "        \"min2\":[2.1418845653533936-0.010754309594631197, 0.15966175896824708-0.0018204286334408033, 0.05055446887980743-0.0060317909804971, 1.1287903785705566-0.022074054926633835, 0.2952815829528158-0.006857237934147671],\n",
    "        \"max2\":[2.1418845653533936+0.010754309594631197, 0.15966175896824708+0.0018204286334408033, 0.05055446887980743+0.0060317909804971, 1.1287903785705566+0.022074054926633835, 0.2952815829528158+0.006857237934147671]}"
   ]
  },
  {
   "cell_type": "code",
   "execution_count": 88,
   "metadata": {},
   "outputs": [],
   "source": [
    "# qr spain run 115\n",
    "data = {\"min\":[0.2905876636505127-0.002222273498773575, 0.28836314267836644-0.005496869946647081, 0.037646799903393355-0.00527976316236584, 1.739101767539978-0.04651648178696632, 0.9134065934065936-0.00805727594717509],\n",
    "        \"max\":[0.2905876636505127+0.002222273498773575, 0.28836314267836644+0.005496869946647081, 0.037646799903393355+0.00527976316236584, 1.739101767539978+0.04651648178696632, 0.9134065934065936+0.00805727594717509],\n",
    "        \"min2\":[2.3599467277526855-0.014605999924242496, 0.2886298550686862-0.005333103396233239, 0.028632049269411913-0.005054105325127367, 1.6742557287216189-0.050032779574394226, 0.4307692307692309-0.014906219743132464],\n",
    "        \"max2\":[2.3599467277526855+0.014605999924242496, 0.2886298550686862+0.005333103396233239, 0.028632049269411913+0.005054105325127367, 1.6742557287216189+0.050032779574394226, 0.4307692307692309+0.014906219743132464]}"
   ]
  },
  {
   "cell_type": "code",
   "execution_count": 39,
   "metadata": {},
   "outputs": [],
   "source": [
    "result = pd.DataFrame.from_dict(data, orient='index', columns=[\"MSE\",\"mCRPS\",\"cal\",\"width\",\"coverage\"])"
   ]
  },
  {
   "cell_type": "code",
   "execution_count": 4,
   "metadata": {},
   "outputs": [
    {
     "data": {
      "text/html": [
       "<div>\n",
       "<style scoped>\n",
       "    .dataframe tbody tr th:only-of-type {\n",
       "        vertical-align: middle;\n",
       "    }\n",
       "\n",
       "    .dataframe tbody tr th {\n",
       "        vertical-align: top;\n",
       "    }\n",
       "\n",
       "    .dataframe thead th {\n",
       "        text-align: right;\n",
       "    }\n",
       "</style>\n",
       "<table border=\"1\" class=\"dataframe\">\n",
       "  <thead>\n",
       "    <tr style=\"text-align: right;\">\n",
       "      <th></th>\n",
       "      <th>MSE</th>\n",
       "      <th>mCRPS</th>\n",
       "      <th>cal</th>\n",
       "      <th>width</th>\n",
       "      <th>coverage</th>\n",
       "    </tr>\n",
       "  </thead>\n",
       "  <tbody>\n",
       "    <tr>\n",
       "      <th>min</th>\n",
       "      <td>0.383466</td>\n",
       "      <td>0.317526</td>\n",
       "      <td>0.519444</td>\n",
       "      <td>3.096209</td>\n",
       "      <td>0.965275</td>\n",
       "    </tr>\n",
       "    <tr>\n",
       "      <th>max</th>\n",
       "      <td>0.403562</td>\n",
       "      <td>0.323492</td>\n",
       "      <td>0.616872</td>\n",
       "      <td>3.121710</td>\n",
       "      <td>0.967982</td>\n",
       "    </tr>\n",
       "    <tr>\n",
       "      <th>min2</th>\n",
       "      <td>0.381592</td>\n",
       "      <td>0.328483</td>\n",
       "      <td>0.013535</td>\n",
       "      <td>2.842209</td>\n",
       "      <td>0.957561</td>\n",
       "    </tr>\n",
       "    <tr>\n",
       "      <th>max2</th>\n",
       "      <td>0.399783</td>\n",
       "      <td>0.338598</td>\n",
       "      <td>0.020774</td>\n",
       "      <td>2.938181</td>\n",
       "      <td>0.964035</td>\n",
       "    </tr>\n",
       "  </tbody>\n",
       "</table>\n",
       "</div>"
      ],
      "text/plain": [
       "           MSE     mCRPS       cal     width  coverage\n",
       "min   0.383466  0.317526  0.519444  3.096209  0.965275\n",
       "max   0.403562  0.323492  0.616872  3.121710  0.967982\n",
       "min2  0.381592  0.328483  0.013535  2.842209  0.957561\n",
       "max2  0.399783  0.338598  0.020774  2.938181  0.964035"
      ]
     },
     "execution_count": 4,
     "metadata": {},
     "output_type": "execute_result"
    }
   ],
   "source": [
    "result"
   ]
  },
  {
   "cell_type": "code",
   "execution_count": 57,
   "metadata": {},
   "outputs": [],
   "source": [
    "ymins, ymaxs = [], []"
   ]
  },
  {
   "cell_type": "code",
   "execution_count": 93,
   "metadata": {},
   "outputs": [],
   "source": [
    "ys = result.values\n",
    "ymin = ys.min(axis=0)\n",
    "ymax = ys.max(axis=0)\n",
    "\n",
    "ymins.append(ymin)\n",
    "ymaxs.append(ymax)"
   ]
  },
  {
   "cell_type": "code",
   "execution_count": 94,
   "metadata": {},
   "outputs": [
    {
     "data": {
      "text/plain": [
       "[array([0.3815919 , 0.31752603, 0.01353474, 2.84220866, 0.95756095]),\n",
       " array([0.4051597 , 0.36490006, 0.06543193, 3.00971338, 0.95183396]),\n",
       " array([0.45119579, 0.17953891, 4.11384426, 0.28962801, 0.11797459]),\n",
       " array([0.82447925, 0.24421083, 0.99352248, 0.44736556, 0.22598972]),\n",
       " array([0.23072755, 0.3317013 , 0.5843366 , 2.45634638, 0.64199011]),\n",
       " array([-0.05066525,  0.34251603,  0.02464041,  2.82194585,  0.92785991]),\n",
       " array([0.43867443, 0.33052008, 0.00536829, 2.82563042, 0.96388545]),\n",
       " array([ 9.46706807e-01,  5.33247356e-01, -2.88733903e-03,  3.00286298e+00,\n",
       "         8.99035984e-01]),\n",
       " array([0.92690858, 0.72027356, 2.163578  , 1.14832485, 0.4474473 ]),\n",
       " array([ 0.74634346,  0.42316181,  0.01973336, -1.0694887 ,  0.91113312]),\n",
       " array([0.10483551, 0.15719257, 0.00149602, 1.08127584, 0.28842435]),\n",
       " array([0.28836539, 0.28286627, 0.02357794, 1.62422295, 0.41586301])]"
      ]
     },
     "execution_count": 94,
     "metadata": {},
     "output_type": "execute_result"
    }
   ],
   "source": [
    "ymins"
   ]
  },
  {
   "cell_type": "code",
   "execution_count": 95,
   "metadata": {},
   "outputs": [
    {
     "data": {
      "text/plain": [
       "[array([0.40356236, 0.33859774, 0.61687165, 3.1217097 , 0.96798176]),\n",
       " array([0.50126044, 0.41229001, 0.80791047, 3.64669684, 0.97549982]),\n",
       " array([0.69068729, 0.21839701, 5.90943065, 0.568744  , 0.25923096]),\n",
       " array([0.94283232, 0.27740183, 2.58171615, 0.84686166, 0.41194882]),\n",
       " array([ 1.18333427,  0.7967629 ,  2.82210208, 14.76646758,  0.99890425]),\n",
       " array([2.0936663 , 0.87612843, 0.73668097, 8.83161391, 0.98703181]),\n",
       " array([0.78876454, 0.57119281, 0.52958331, 6.77186075, 0.98799119]),\n",
       " array([1.74131932, 0.8301564 , 0.19496027, 6.52827628, 0.95472527]),\n",
       " array([1.79540332, 3.34700987, 3.73135241, 5.01185077, 0.85899398]),\n",
       " array([ 1.21753566,  1.0298284 ,  0.85917788, 17.33636337,  0.96227348]),\n",
       " array([2.15263887, 0.16148219, 0.05658626, 1.15086443, 0.95079368]),\n",
       " array([2.37455273, 0.29396296, 0.04292656, 1.78561825, 0.92146387])]"
      ]
     },
     "execution_count": 95,
     "metadata": {},
     "output_type": "execute_result"
    }
   ],
   "source": [
    "ymaxs"
   ]
  },
  {
   "cell_type": "code",
   "execution_count": 96,
   "metadata": {},
   "outputs": [
    {
     "data": {
      "text/plain": [
       "array([-0.05066525,  0.15719257, -0.00288734, -1.0694887 ,  0.11797459])"
      ]
     },
     "execution_count": 96,
     "metadata": {},
     "output_type": "execute_result"
    }
   ],
   "source": [
    "np.stack(ymins).min(axis=0)"
   ]
  },
  {
   "cell_type": "code",
   "execution_count": 97,
   "metadata": {},
   "outputs": [
    {
     "data": {
      "text/plain": [
       "array([ 2.37455273,  3.34700987,  5.90943065, 17.33636337,  0.99890425])"
      ]
     },
     "execution_count": 97,
     "metadata": {},
     "output_type": "execute_result"
    }
   ],
   "source": [
    "np.stack(ymaxs).max(axis=0)"
   ]
  },
  {
   "cell_type": "code",
   "execution_count": 40,
   "metadata": {},
   "outputs": [],
   "source": [
    "# organize the data\n",
    "ys = result.values\n",
    "ynames = result.columns\n",
    "# ymin = ys.min(axis=0)\n",
    "# ymaxs = ys.max(axis=0)\n",
    "ymins = np.array([-0.05066525,  0.15719257, -0.00288734, -1.0694887 ,  0.11797459])\n",
    "ymaxs = np.array([ 2.37455273,  3.34700987,  5.90943065, 17.33636337,  0.99890425])\n",
    "dys = ymaxs - ymins\n",
    "for i in range(len(dys)):\n",
    "    if dys[i]==0:\n",
    "        dys[i] = 0.05\n",
    "ymins -= dys * 0.1  # add 20% padding below and above\n",
    "ymaxs += dys * 0.1\n",
    "dys = ymaxs - ymins\n",
    "\n",
    "# transform all data to be compatible with the main axis\n",
    "zs = np.zeros_like(ys)\n",
    "zs[:, 0] = ys[:, 0]\n",
    "zs[:, 1:] = (ys[:, 1:] - ymins[1:]) / dys[1:] * dys[0] + ymins[0]"
   ]
  },
  {
   "cell_type": "code",
   "execution_count": 41,
   "metadata": {},
   "outputs": [
    {
     "data": {
      "image/png": "[encoded data removed]",
      "text/plain": [
       "<Figure size 640x480 with 5 Axes>"
      ]
     },
     "metadata": {},
     "output_type": "display_data"
    }
   ],
   "source": [
    "fig, host = plt.subplots()\n",
    "axes = [host] + [host.twinx() for i in range(ys.shape[1] - 1)]\n",
    "for i, ax in enumerate(axes):\n",
    "    ax.set_ylim(ymins[i], ymaxs[i]) if ymins[i]!=ymaxs[i] else ax.set_ylim(ymins[i]-0.05, ymaxs[i]+0.05)\n",
    "    ax.spines['top'].set_visible(False)\n",
    "    ax.spines['bottom'].set_visible(False)\n",
    "    if ax != host:\n",
    "        ax.spines['left'].set_visible(False)\n",
    "        ax.yaxis.set_ticks_position('right')\n",
    "        ax.spines[\"right\"].set_position((\"axes\", i / (ys.shape[1] - 1)))\n",
    "\n",
    "host.set_xlim(0, ys.shape[1] - 1)\n",
    "host.set_xticks(range(ys.shape[1]))\n",
    "host.set_xticklabels(ynames, fontsize=18)\n",
    "host.tick_params(axis='x', which='major', pad=7)\n",
    "host.spines['right'].set_visible(False)\n",
    "host.xaxis.tick_top()\n",
    "# host.set_title('Parallel Coordinates Plot', fontsize=18)\n",
    "\n",
    "colors = ['b','b','r','r']\n",
    "for j in range(0,4,2):\n",
    "\n",
    "    # create bezier curves for the standard deviations\n",
    "    lin = np.linspace(0, ys.shape[1] - 1, ys.shape[1] * 3 - 2, endpoint=True)\n",
    "    verts = np.concatenate([np.stack([  lin, np.repeat(zs[j, :], 3)[1:-1]]).T,\n",
    "                            np.flip(np.stack([lin, np.repeat(zs[j+1, :], 3)[1:-1]]).T, axis=0),\n",
    "                            np.asarray([[lin[0], zs[j,0]]])\n",
    "                            ])\n",
    "    # straight lines\n",
    "    lin2 = np.linspace(0, ys.shape[1] - 1, 5, endpoint=True)\n",
    "    verts2 = np.concatenate([np.stack([lin2, zs[j,:]]).T,\n",
    "                             np.flip(np.stack([lin2, zs[j+1,:]]).T, axis=0),\n",
    "                             np.asarray([[lin2[0], zs[j,0]]])\n",
    "                            ])\n",
    "    # for x,y in verts2: host.plot(x, y, 'go') # to show the control points of the beziers\n",
    "\n",
    "    # bezier curves\n",
    "    codes = [Path.MOVETO] + [Path.CURVE4 for _ in range(int(len(verts)/2) - 1)] + [Path.LINETO] + [Path.CURVE4 for _ in range(int(len(verts)/2) - 1)] + [Path.LINETO]\n",
    "    # straight lines\n",
    "    codes2 = [Path.MOVETO] + [Path.LINETO for _ in range(len(verts2)-1)]\n",
    "\n",
    "    path = Path(verts2, codes2)\n",
    "\n",
    "    patch = patches.PathPatch(path, facecolor=colors[j], alpha=0.4, lw=1, edgecolor=None)\n",
    "    host.add_patch(patch)\n",
    "\n",
    "    # add mean path\n",
    "    # bezier curves\n",
    "    mean = np.mean(np.stack([np.repeat(zs[j, :], 3)[1:-1], np.repeat(zs[j+1, :], 3)[1:-1]]),axis=0)\n",
    "    verts_m = np.concatenate([np.stack([lin, mean]).T,\n",
    "                            np.flip(np.stack([lin, mean]).T, axis=0),\n",
    "                            np.asarray([[lin[0], mean[0]]])\n",
    "                            ])\n",
    "    # straight lines\n",
    "    mean2 = np.mean(np.stack([zs[j, :], zs[j+1, :]]),axis=0)\n",
    "    verts_m2 = np.concatenate([np.stack([lin2, mean2]).T,\n",
    "                            np.flip(np.stack([lin2, mean2]).T, axis=0),\n",
    "                            np.asarray([[lin2[0], mean2[0]]])\n",
    "                            ])\n",
    "    \n",
    "    # brezier curves\n",
    "    codes_m = [Path.MOVETO] + [Path.CURVE4 for _ in range(int(len(verts)/2) - 1)] + [Path.LINETO] + [Path.CURVE4 for _ in range(int(len(verts)/2) - 1)] + [Path.LINETO]\n",
    "    # straight lines\n",
    "    codes_m2 = [Path.MOVETO] + [Path.LINETO for _ in range(int(len(verts2)) - 1)]\n",
    "\n",
    "    path_m = Path(verts_m2, codes_m2)\n",
    "    patch_m = patches.PathPatch(path_m, facecolor=None, lw=2, edgecolor=colors[j])\n",
    "    host.add_patch(patch_m)\n",
    "plt.tight_layout()\n",
    "plt.show()"
   ]
  },
  {
   "cell_type": "markdown",
   "metadata": {},
   "source": [
    "## Pre-calibration only"
   ]
  },
  {
   "cell_type": "code",
   "execution_count": 89,
   "metadata": {},
   "outputs": [],
   "source": [
    "data2 = dict(list(data.items())[:2])\n",
    "result = pd.DataFrame.from_dict(data2, orient='index', columns=[\"MSE\",\"mCRPS\",\"cal\",\"width\",\"coverage\"])"
   ]
  },
  {
   "cell_type": "code",
   "execution_count": 41,
   "metadata": {},
   "outputs": [
    {
     "data": {
      "text/html": [
       "<div>\n",
       "<style scoped>\n",
       "    .dataframe tbody tr th:only-of-type {\n",
       "        vertical-align: middle;\n",
       "    }\n",
       "\n",
       "    .dataframe tbody tr th {\n",
       "        vertical-align: top;\n",
       "    }\n",
       "\n",
       "    .dataframe thead th {\n",
       "        text-align: right;\n",
       "    }\n",
       "</style>\n",
       "<table border=\"1\" class=\"dataframe\">\n",
       "  <thead>\n",
       "    <tr style=\"text-align: right;\">\n",
       "      <th></th>\n",
       "      <th>MSE</th>\n",
       "      <th>mCRPS</th>\n",
       "      <th>cal</th>\n",
       "      <th>width</th>\n",
       "      <th>coverage</th>\n",
       "    </tr>\n",
       "  </thead>\n",
       "  <tbody>\n",
       "    <tr>\n",
       "      <th>min</th>\n",
       "      <td>0.288365</td>\n",
       "      <td>0.282866</td>\n",
       "      <td>0.032367</td>\n",
       "      <td>1.692585</td>\n",
       "      <td>0.905349</td>\n",
       "    </tr>\n",
       "    <tr>\n",
       "      <th>max</th>\n",
       "      <td>0.292810</td>\n",
       "      <td>0.293860</td>\n",
       "      <td>0.042927</td>\n",
       "      <td>1.785618</td>\n",
       "      <td>0.921464</td>\n",
       "    </tr>\n",
       "  </tbody>\n",
       "</table>\n",
       "</div>"
      ],
      "text/plain": [
       "          MSE     mCRPS       cal     width  coverage\n",
       "min  0.288365  0.282866  0.032367  1.692585  0.905349\n",
       "max  0.292810  0.293860  0.042927  1.785618  0.921464"
      ]
     },
     "execution_count": 41,
     "metadata": {},
     "output_type": "execute_result"
    }
   ],
   "source": [
    "result"
   ]
  },
  {
   "cell_type": "code",
   "execution_count": 4,
   "metadata": {},
   "outputs": [],
   "source": [
    "ymins, ymaxs = [], []"
   ]
  },
  {
   "cell_type": "code",
   "execution_count": 38,
   "metadata": {},
   "outputs": [],
   "source": [
    "ys = result.values\n",
    "ymin = ys.min(axis=0)\n",
    "ymax = ys.max(axis=0)\n",
    "\n",
    "ymins.append(ymin)\n",
    "ymaxs.append(ymax)"
   ]
  },
  {
   "cell_type": "code",
   "execution_count": 39,
   "metadata": {},
   "outputs": [
    {
     "data": {
      "text/plain": [
       "array([-0.05066525,  0.15719257, -0.00288734, -1.0694887 ,  0.11797459])"
      ]
     },
     "execution_count": 39,
     "metadata": {},
     "output_type": "execute_result"
    }
   ],
   "source": [
    "np.stack(ymins).min(axis=0)"
   ]
  },
  {
   "cell_type": "code",
   "execution_count": 40,
   "metadata": {},
   "outputs": [
    {
     "data": {
      "text/plain": [
       "array([ 2.0936663 ,  3.34700987,  5.90943065, 17.33636337,  0.99890425])"
      ]
     },
     "execution_count": 40,
     "metadata": {},
     "output_type": "execute_result"
    }
   ],
   "source": [
    "np.stack(ymaxs).max(axis=0)"
   ]
  },
  {
   "cell_type": "code",
   "execution_count": 90,
   "metadata": {},
   "outputs": [],
   "source": [
    "# organize the data\n",
    "ys = result.values\n",
    "ynames = result.columns\n",
    "# ymin = ys.min(axis=0)\n",
    "# ymaxs = ys.max(axis=0)\n",
    "ymins = np.array([-0.05066525,  0.15719257, -0.00288734, -1.0694887 ,  0.11797459])\n",
    "ymaxs = np.array([ 2.0936663 ,  3.34700987,  5.90943065, 17.33636337,  0.99890425])\n",
    "dys = ymaxs - ymins\n",
    "for i in range(len(dys)):\n",
    "    if dys[i]==0:\n",
    "        dys[i] = 0.05\n",
    "ymins -= dys * 0.1  # add 20% padding below and above\n",
    "ymaxs += dys * 0.1\n",
    "dys = ymaxs - ymins\n",
    "\n",
    "# transform all data to be compatible with the main axis\n",
    "zs = np.zeros_like(ys)\n",
    "zs[:, 0] = ys[:, 0]\n",
    "zs[:, 1:] = (ys[:, 1:] - ymins[1:]) / dys[1:] * dys[0] + ymins[0]"
   ]
  },
  {
   "cell_type": "code",
   "execution_count": 91,
   "metadata": {},
   "outputs": [
    {
     "data": {
      "image/png": "[encoded data removed]",
      "text/plain": [
       "<Figure size 640x480 with 5 Axes>"
      ]
     },
     "metadata": {},
     "output_type": "display_data"
    }
   ],
   "source": [
    "fig, host = plt.subplots()\n",
    "axes = [host] + [host.twinx() for i in range(ys.shape[1] - 1)]\n",
    "for i, ax in enumerate(axes):\n",
    "    ax.set_ylim(ymins[i], ymaxs[i]) if ymins[i]!=ymaxs[i] else ax.set_ylim(ymins[i]-0.05, ymaxs[i]+0.05)\n",
    "    ax.spines['top'].set_visible(False)\n",
    "    ax.spines['bottom'].set_visible(False)\n",
    "    if ax != host:\n",
    "        ax.spines['left'].set_visible(False)\n",
    "        ax.yaxis.set_ticks_position('right')\n",
    "        ax.spines[\"right\"].set_position((\"axes\", i / (ys.shape[1] - 1)))\n",
    "\n",
    "host.set_xlim(0, ys.shape[1] - 1)\n",
    "host.set_xticks(range(ys.shape[1]))\n",
    "host.set_xticklabels(ynames, fontsize=18)\n",
    "host.tick_params(axis='x', which='major', pad=7)\n",
    "host.spines['right'].set_visible(False)\n",
    "host.xaxis.tick_top()\n",
    "\n",
    "colors = ['b','b']\n",
    "for j in range(0,2,2):\n",
    "\n",
    "    # create bezier curves for the standard deviations\n",
    "    lin = np.linspace(0, ys.shape[1] - 1, ys.shape[1] * 3 - 2, endpoint=True)\n",
    "    verts = np.concatenate([np.stack([  lin, np.repeat(zs[j, :], 3)[1:-1]]).T,\n",
    "                            np.flip(np.stack([lin, np.repeat(zs[j+1, :], 3)[1:-1]]).T, axis=0),\n",
    "                            np.asarray([[lin[0], zs[j,0]]])\n",
    "                            ])\n",
    "    # straight lines\n",
    "    lin2 = np.linspace(0, ys.shape[1] - 1, 5, endpoint=True)\n",
    "    verts2 = np.concatenate([np.stack([lin2, zs[j,:]]).T,\n",
    "                             np.flip(np.stack([lin2, zs[j+1,:]]).T, axis=0),\n",
    "                             np.asarray([[lin2[0], zs[j,0]]])\n",
    "                            ])\n",
    "    # for x,y in verts2: host.plot(x, y, 'go') # to show the control points of the beziers\n",
    "\n",
    "    # bezier curves\n",
    "    codes = [Path.MOVETO] + [Path.CURVE4 for _ in range(int(len(verts)/2) - 1)] + [Path.LINETO] + [Path.CURVE4 for _ in range(int(len(verts)/2) - 1)] + [Path.LINETO]\n",
    "    # straight lines\n",
    "    codes2 = [Path.MOVETO] + [Path.LINETO for _ in range(len(verts2)-1)]\n",
    "\n",
    "    path = Path(verts2, codes2)\n",
    "\n",
    "    patch = patches.PathPatch(path, facecolor=colors[j], alpha=0.4, lw=1, edgecolor=None)\n",
    "    host.add_patch(patch)\n",
    "\n",
    "    # add mean path\n",
    "    # bezier curves\n",
    "    mean = np.mean(np.stack([np.repeat(zs[j, :], 3)[1:-1], np.repeat(zs[j+1, :], 3)[1:-1]]),axis=0)\n",
    "    verts_m = np.concatenate([np.stack([lin, mean]).T,\n",
    "                            np.flip(np.stack([lin, mean]).T, axis=0),\n",
    "                            np.asarray([[lin[0], mean[0]]])\n",
    "                            ])\n",
    "    # straight lines\n",
    "    mean2 = np.mean(np.stack([zs[j, :], zs[j+1, :]]),axis=0)\n",
    "    verts_m2 = np.concatenate([np.stack([lin2, mean2]).T,\n",
    "                            np.flip(np.stack([lin2, mean2]).T, axis=0),\n",
    "                            np.asarray([[lin2[0], mean2[0]]])\n",
    "                            ])\n",
    "    \n",
    "    # brezier curves\n",
    "    codes_m = [Path.MOVETO] + [Path.CURVE4 for _ in range(int(len(verts)/2) - 1)] + [Path.LINETO] + [Path.CURVE4 for _ in range(int(len(verts)/2) - 1)] + [Path.LINETO]\n",
    "    # straight lines\n",
    "    codes_m2 = [Path.MOVETO] + [Path.LINETO for _ in range(int(len(verts2)) - 1)]\n",
    "\n",
    "    path_m = Path(verts_m2, codes_m2)\n",
    "    patch_m = patches.PathPatch(path_m, facecolor=None, lw=2, edgecolor=colors[j])\n",
    "    host.add_patch(patch_m)\n",
    "plt.tight_layout()\n",
    "plt.show()"
   ]
  },
  {
   "attachments": {},
   "cell_type": "markdown",
   "metadata": {},
   "source": [
    "# Training time"
   ]
  },
  {
   "cell_type": "code",
   "execution_count": 1,
   "metadata": {},
   "outputs": [],
   "source": [
    "import matplotlib\n",
    "import matplotlib.pyplot as plt\n",
    "\n",
    "matplotlib.rcParams['mathtext.fontset'] = 'stix'\n",
    "matplotlib.rcParams['font.family'] = 'STIXGeneral'\n",
    "matplotlib.rcParams['font.size'] = 18"
   ]
  },
  {
   "cell_type": "code",
   "execution_count": 40,
   "metadata": {},
   "outputs": [],
   "source": [
    "labels = ['SSVS','MCMC\\n(PCA)','MCMC','SVI','QR','dropout']\n",
    "\n",
    "acea_m = [16557.0740301262,6336.8361373280995,3163.3722030295003,5.1046875,0.5583210318,0.10076277680000176]\n",
    "acea_s = [4683.745525844296,6411.012320457211,3826.6741536563686,3.159737012518803,0.07906207713350931,0.14014561783585916]\n",
    "\n",
    "spain_m = [12601.978202305,8049.848172869,2826.4030849603005,2.7558064362000008,2.6920125947999995,0.07675913240000005]\n",
    "spain_s = [6840.068222259963,4513.276227639548,1734.014522254727,0.1705185812602473,0.13814020546530145,0.13972444008643106]"
   ]
  },
  {
   "cell_type": "code",
   "execution_count": 45,
   "metadata": {},
   "outputs": [
    {
     "data": {
      "image/png": "[encoded data removed]",
      "text/plain": [
       "<Figure size 640x480 with 1 Axes>"
      ]
     },
     "metadata": {},
     "output_type": "display_data"
    }
   ],
   "source": [
    "x_pos = [1,2,3,4,5,6]\n",
    "x_pos1=[0.85,1.85,2.85,3.85,4.85,5.85]\n",
    "x_pos2=[1.15,2.15,3.15,4.15,5.15,6.15]\n",
    "\n",
    "fig, ax = plt.subplots()\n",
    "ax.bar(x_pos1, acea_m, width=0.3, yerr=acea_s, align='center', ecolor='black', capsize=6, log=True, label=\"ACEA\")\n",
    "ax.bar(x_pos2, spain_m, width=0.3, yerr=spain_s, align='center', ecolor='black', capsize=6, log=True, label=\"Spain\")\n",
    "ax.set_ylabel('Training time (s)')\n",
    "ax.set_xticks(x_pos)\n",
    "ax.set_yticks([1,10,100,1000,10000])\n",
    "ax.set_xticklabels(labels, rotation=45)\n",
    "ax.yaxis.grid(True)\n",
    "plt.legend(loc='best', fontsize=13)\n",
    "\n",
    "plt.tight_layout()"
   ]
  },
  {
   "attachments": {},
   "cell_type": "markdown",
   "metadata": {},
   "source": [
    "# Cal vs MSE"
   ]
  },
  {
   "cell_type": "code",
   "execution_count": 1,
   "metadata": {},
   "outputs": [],
   "source": [
    "import matplotlib\n",
    "import matplotlib.pyplot as plt\n",
    "import matplotlib.patches as mpatches\n",
    "\n",
    "matplotlib.rcParams['mathtext.fontset'] = 'stix'\n",
    "matplotlib.rcParams['font.family'] = 'STIXGeneral'\n",
    "matplotlib.rcParams['font.size'] = 22"
   ]
  },
  {
   "cell_type": "code",
   "execution_count": 2,
   "metadata": {},
   "outputs": [],
   "source": [
    "labels = ['SSVS','MCMC (PCA)','MCMC','SVI','QR','dropout']\n",
    "\n",
    "acea_mse = [1.3611559519786949,0.6151270330230489,0.6853621889462517,0.39351414381897054,0.35119491815567017,0.5786273651142643]\n",
    "acea_cal = [2.9474652023218946,0.4661018548752834,1.6987378703619616,0.5681579855818824,2.301734022169665,5.455590414514022]\n",
    "\n",
    "spain_mse = [0.9819395641750092,1.344013064098141,1.02150052606676,0.4532105543146067,0.2905876636505127,0.8638325889008872]\n",
    "spain_cal = [0.5083413537012437,0.0960364629875618,0.4388813850984182,0.5282984844825502,0.037646799903393355,2.4330950307933827]"
   ]
  },
  {
   "cell_type": "code",
   "execution_count": 10,
   "metadata": {},
   "outputs": [
    {
     "data": {
      "image/png": "[encoded data removed]",
      "text/plain": [
       "<Figure size 800x600 with 1 Axes>"
      ]
     },
     "metadata": {},
     "output_type": "display_data"
    }
   ],
   "source": [
    "markers = ['o','^','s','*','X','d']\n",
    "\n",
    "fig, ax = plt.subplots(figsize=(8,6))\n",
    "\n",
    "for i in range(len(labels)):\n",
    "    plt.scatter(acea_mse[i], acea_cal[i], marker=markers[i], s=150, c='tab:blue', alpha=1)\n",
    "    plt.scatter(spain_mse[i], spain_cal[i], marker=markers[i], s=150, c='tab:orange', alpha=1)\n",
    "\n",
    "    \n",
    "ax.set_ylabel('cal')\n",
    "ax.set_xlabel('MSE')\n",
    "ax.yaxis.grid(True)\n",
    "\n",
    "patches = []\n",
    "m_labels = []\n",
    "for i in range(len(labels)):\n",
    "    patches.append(plt.Line2D([],[], marker=markers[i], ms=10, c='k', linestyle=''))\n",
    "    m_labels.append(labels[i])\n",
    "patches.append(mpatches.Patch(color='tab:blue', label='ACEA'))\n",
    "patches.append(mpatches.Patch(color='tab:orange', label='Spain'))\n",
    "m_labels.append('ACEA')\n",
    "m_labels.append('Spain')\n",
    "\n",
    "plt.legend(handles=patches, labels=m_labels, loc='best', fontsize=13, ncols=3)\n",
    "plt.tight_layout()"
   ]
  }
 ],
 "metadata": {
  "kernelspec": {
   "display_name": "uncertainty",
   "language": "python",
   "name": "python3"
  },
  "language_info": {
   "codemirror_mode": {
    "name": "ipython",
    "version": 3
   },
   "file_extension": ".py",
   "mimetype": "text/x-python",
   "name": "python",
   "nbconvert_exporter": "python",
   "pygments_lexer": "ipython3",
   "version": "3.9.12"
  },
  "orig_nbformat": 4
 },
 "nbformat": 4,
 "nbformat_minor": 2
}
