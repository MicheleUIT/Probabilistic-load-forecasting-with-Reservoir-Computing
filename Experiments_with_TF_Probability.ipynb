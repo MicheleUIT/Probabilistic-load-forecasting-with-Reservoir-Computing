{
  "nbformat": 4,
  "nbformat_minor": 0,
  "metadata": {
    "colab": {
      "provenance": [],
      "collapsed_sections": [],
      "include_colab_link": true
    },
    "kernelspec": {
      "name": "python3",
      "display_name": "Python 3"
    },
    "language_info": {
      "name": "python"
    }
  },
  "cells": [
    {
      "cell_type": "markdown",
      "metadata": {
        "id": "view-in-github",
        "colab_type": "text"
      },
      "source": [
        "<a href=\"https://colab.research.google.com/github/MicheleUIT/Uncertainty/blob/master/Experiments_with_TF_Probability.ipynb\" target=\"_parent\"><img src=\"https://colab.research.google.com/assets/colab-badge.svg\" alt=\"Open In Colab\"/></a>"
      ]
    },
    {
      "cell_type": "markdown",
      "source": [
        "## TensorFlow Probability (rough notes)\n",
        "\n",
        "This is a brief personal introduction to [TensorFlow Probability](https://www.tensorflow.org/probability/). I have found the current documentation to be confusing, so I skirmed a few tutorials and guides and put together some notes. This notebook moves from defining a simple distribution to graphical models and training a Bayesian neural network with Variational Inference.\n",
        "\n",
        "> 1. Current stable version of TFP is 0.13, this might change anytime, breaking this notebook. \n",
        "> 2. The documentation being confusing, this might have errors or things that could have been done better otherwise.\n",
        "> 3. See at the end for a list of topics I still have not touched in these notes."
      ],
      "metadata": {
        "id": "9mIytlijJHx4"
      }
    },
    {
      "cell_type": "markdown",
      "source": [
        "## Setup and imports"
      ],
      "metadata": {
        "id": "JzbQCuZuyukK"
      }
    },
    {
      "cell_type": "code",
      "execution_count": null,
      "metadata": {
        "id": "RcsqNEcAneRO"
      },
      "outputs": [],
      "source": [
        "%pip install --upgrade tensorflow-probability -qqq"
      ]
    },
    {
      "cell_type": "code",
      "source": [
        "import numpy as np"
      ],
      "metadata": {
        "id": "FUTUq1pTNx2Y"
      },
      "execution_count": null,
      "outputs": []
    },
    {
      "cell_type": "code",
      "source": [
        "import tensorflow as tf\n",
        "from tensorflow import keras\n",
        "import tensorflow_datasets\n",
        "import tensorflow_probability as tfp\n",
        "from tensorflow_probability import distributions as tfd\n",
        "from tensorflow_probability import bijectors as tfb"
      ],
      "metadata": {
        "id": "oxHta7-so8mW"
      },
      "execution_count": null,
      "outputs": []
    },
    {
      "cell_type": "code",
      "source": [
        "import matplotlib.pyplot as plt\n",
        "import seaborn as sns"
      ],
      "metadata": {
        "id": "ha_y4ZCGpAZ1"
      },
      "execution_count": null,
      "outputs": []
    },
    {
      "cell_type": "markdown",
      "source": [
        "## 1) Distributions"
      ],
      "metadata": {
        "id": "MwDZW85Cy3kl"
      }
    },
    {
      "cell_type": "markdown",
      "source": [
        "The core construct in TFP are Distribution objects. There are a lot of them already implemented, some of which are quite complex (e.g., PixelCNN):\n",
        "https://www.tensorflow.org/probability/api_docs/python/tfp/distributions/Distribution\n",
        "\n",
        "Manipulating distributions is probably the only thing that is documented extensively in the guides:\n",
        "https://www.tensorflow.org/probability/examples/A_Tour_of_TensorFlow_Probability#distributions\n",
        "https://www.tensorflow.org/probability/examples/Understanding_TensorFlow_Distributions_Shapes\n",
        "https://www.tensorflow.org/probability/examples/TensorFlow_Distributions_Tutorial"
      ],
      "metadata": {
        "id": "BwZ9X7qZPEdE"
      }
    },
    {
      "cell_type": "code",
      "source": [
        "# Let us try a simple Multinomial distribution with N=10 trials and 3 possible outputs:\n",
        "mn = tfp.distributions.Multinomial(10, [0.65, 0.05, 0.3])"
      ],
      "metadata": {
        "id": "Mg1eqy3vn5Pl"
      },
      "execution_count": null,
      "outputs": []
    },
    {
      "cell_type": "code",
      "source": [
        "# There are basically two things we can do with distributions: sample and compute the probability of a sample (either normalized or unnormalized)\n",
        "print(mn.sample())\n",
        "print(mn.prob([2, 7, 1]))\n",
        "print(mn.log_prob([2, 7, 1]))"
      ],
      "metadata": {
        "colab": {
          "base_uri": "https://localhost:8080/"
        },
        "id": "PDKTXPzWQ9DV",
        "outputId": "140f7cc4-8527-4172-f477-270341e8654b"
      },
      "execution_count": null,
      "outputs": [
        {
          "output_type": "stream",
          "name": "stdout",
          "text": [
            "tf.Tensor([4. 2. 4.], shape=(3,), dtype=float32)\n",
            "tf.Tensor(0.0011263869, shape=(), dtype=float32)\n",
            "tf.Tensor(-6.78874, shape=(), dtype=float32)\n"
          ]
        }
      ]
    },
    {
      "cell_type": "code",
      "source": [
        "# Inside a Distribution object, we can instantiate different distributions together (a \"batch\" of distributions)\n",
        "# There are some pretty strange broadcasting effects: for example, these two multimonials distributions have a shared number of trials\n",
        "mn_two = tfp.distributions.Multinomial(10, [[0.65, 0.05, 0.3], [0.35, 0.35, 0.3]])"
      ],
      "metadata": {
        "id": "RH_3vL34pSRF"
      },
      "execution_count": null,
      "outputs": []
    },
    {
      "cell_type": "code",
      "source": [
        "# Batch shape is how many distributions this represents\n",
        "print(mn_two.batch_shape)\n",
        "# Event shape is the shape of the single distribution\n",
        "print(mn_two.event_shape)"
      ],
      "metadata": {
        "colab": {
          "base_uri": "https://localhost:8080/"
        },
        "id": "z3z_XmJZn6h9",
        "outputId": "72a74d4b-430b-42b6-d387-bfee5bca64c8"
      },
      "execution_count": null,
      "outputs": [
        {
          "output_type": "stream",
          "name": "stdout",
          "text": [
            "(2,)\n",
            "(3,)\n"
          ]
        }
      ]
    },
    {
      "cell_type": "code",
      "source": [
        "# Sampling from a distribution can also take a shape\n",
        "x = mn_two.sample(5)"
      ],
      "metadata": {
        "id": "Dvc7vRbepOU3"
      },
      "execution_count": null,
      "outputs": []
    },
    {
      "cell_type": "code",
      "source": [
        "# The final strange shape is: [sampling_shape] x [batch_shape] x [event_shape]\n",
        "# This must be read as: 5 samplings from 2 multinomial distributions, whose event space is in R^3.\n",
        "print(x.shape)"
      ],
      "metadata": {
        "colab": {
          "base_uri": "https://localhost:8080/"
        },
        "id": "GxE8SfbzvTbg",
        "outputId": "465a88b3-27cd-42e5-bb67-427e52633e05"
      },
      "execution_count": null,
      "outputs": [
        {
          "output_type": "stream",
          "name": "stdout",
          "text": [
            "(5, 2, 3)\n"
          ]
        }
      ]
    },
    {
      "cell_type": "code",
      "source": [
        "# Plot an average of the 5 samples for the first multinomial distribution\n",
        "_ = plt.bar([0,1,2], tf.reduce_mean(x[:, 0, :], axis=0))"
      ],
      "metadata": {
        "colab": {
          "base_uri": "https://localhost:8080/",
          "height": 265
        },
        "id": "fs2Qc-c6v_CG",
        "outputId": "d83ca8cc-b32b-404c-83d4-43f07ab8dad4"
      },
      "execution_count": null,
      "outputs": [
        {
          "output_type": "display_data",
          "data": {
            "text/plain": [
              "<Figure size 432x288 with 1 Axes>"
            ],
            "image/png": "[encoded data removed]"
          },
          "metadata": {
            "needs_background": "light"
          }
        }
      ]
    },
    {
      "cell_type": "code",
      "source": [
        "# We can \"move\" the batch dimension to the event dimension by considering the Independent distribution:\n",
        "mn_two_ind = tfd.Independent(mn_two, reinterpreted_batch_ndims=1)"
      ],
      "metadata": {
        "id": "tpXXe9iezK0A"
      },
      "execution_count": null,
      "outputs": []
    },
    {
      "cell_type": "code",
      "source": [
        "# Now we have a single distribution, representing a draw from two independent multimonial distributions\n",
        "print(mn_two_ind.batch_shape)\n",
        "print(mn_two_ind.event_shape)"
      ],
      "metadata": {
        "colab": {
          "base_uri": "https://localhost:8080/"
        },
        "id": "5FmaWpK64fEQ",
        "outputId": "8c262b3a-0c3d-456e-a2f6-87803b1758c0"
      },
      "execution_count": null,
      "outputs": [
        {
          "output_type": "stream",
          "name": "stdout",
          "text": [
            "()\n",
            "(2, 3)\n"
          ]
        }
      ]
    },
    {
      "cell_type": "code",
      "source": [
        "# If we need independent draws from the *same* distributions we can use instead Sample:\n",
        "mn_two_draws = tfd.Sample(mn, sample_shape=(4,))\n",
        "print(mn_two_draws.batch_shape)\n",
        "print(mn_two_draws.event_shape) # 4 independent draws from the same multinomial distribution"
      ],
      "metadata": {
        "colab": {
          "base_uri": "https://localhost:8080/"
        },
        "id": "EnVsqKHWY4A1",
        "outputId": "a660f1ac-a1ed-4859-9f0d-18cf2aea09e4"
      },
      "execution_count": null,
      "outputs": [
        {
          "output_type": "stream",
          "name": "stdout",
          "text": [
            "()\n",
            "(4, 3)\n"
          ]
        }
      ]
    },
    {
      "cell_type": "code",
      "source": [
        "# Somewhat confusingly, some distributions have trainable parameters, e.g.,\n",
        "# a PixelCNN model is implemented inside tfp.distributions:\n",
        "pixelcnn = tfp.distributions.PixelCNN((16, 16, 3), num_resnet=1, num_hierarchies=1, num_filters=10)"
      ],
      "metadata": {
        "id": "3dJaR9szShi8"
      },
      "execution_count": null,
      "outputs": []
    },
    {
      "cell_type": "code",
      "source": [
        "len(pixelcnn.trainable_variables)"
      ],
      "metadata": {
        "id": "mju8n7xeTQyj",
        "outputId": "552a9f73-8899-454e-a236-db66a9226ab5",
        "colab": {
          "base_uri": "https://localhost:8080/"
        }
      },
      "execution_count": null,
      "outputs": [
        {
          "output_type": "execute_result",
          "data": {
            "text/plain": [
              "45"
            ]
          },
          "metadata": {},
          "execution_count": 25
        }
      ]
    },
    {
      "cell_type": "code",
      "source": [
        "# We can also add our own variables to standard distributions if we want to optimize them:\n",
        "trainable_normal = tfd.Normal(loc=tf.Variable(0.0), scale=1.0)\n",
        "print(trainable_normal.trainable_variables)"
      ],
      "metadata": {
        "colab": {
          "base_uri": "https://localhost:8080/"
        },
        "id": "cHohkZZlYqSB",
        "outputId": "225d74b1-a149-4f89-f6ed-e44cac64ec6e"
      },
      "execution_count": null,
      "outputs": [
        {
          "output_type": "stream",
          "name": "stdout",
          "text": [
            "(<tf.Variable 'Variable:0' shape=() dtype=float32, numpy=0.0>,)\n"
          ]
        }
      ]
    },
    {
      "cell_type": "markdown",
      "source": [
        "## 2) Bijectors"
      ],
      "metadata": {
        "id": "3JNKBDCD5QJE"
      }
    },
    {
      "cell_type": "markdown",
      "source": [
        "Bijectors are diffeomorphisms (invertible & differentiable functions) between random variables. Given $x \\sim p(x)$ and a bijection $z=f(x)$, then:\n",
        "\n",
        "$$\n",
        "p(z)=p(x)\\lvert \\text{det} J_{f^{-1}}(z) \\rvert \n",
        "$$\n",
        "\n",
        "where $J_{f^{-1}}$ is the Jacobian of the inverse transformation. Just like with distributions, TFP has a huge number of bijectors:\n",
        "https://www.tensorflow.org/probability/api_docs/python/tfp/bijectors"
      ],
      "metadata": {
        "id": "CF8v9f7g5SXb"
      }
    },
    {
      "cell_type": "code",
      "source": [
        "# An half-normal distribution is obtained by taking the absolute value of a normal random variable:\n",
        "folded_norm = tfd.HalfNormal(scale=1.0)"
      ],
      "metadata": {
        "id": "fVBxUFz56pFK"
      },
      "execution_count": null,
      "outputs": []
    },
    {
      "cell_type": "code",
      "source": [
        "# We can do the same by sampling from a normal distribution and then appling a bijection\n",
        "norm = tfd.Normal(loc=0.0, scale=1.0)\n",
        "bijection = tfb.AbsoluteValue()"
      ],
      "metadata": {
        "id": "1pXghbFF7pOT"
      },
      "execution_count": null,
      "outputs": []
    },
    {
      "cell_type": "code",
      "source": [
        "# We can use bijectors as functions applied on the samples\n",
        "norm_samples = folded_norm.sample(1000)\n",
        "folded_norm_samples = bijection(norm.sample(1000))"
      ],
      "metadata": {
        "id": "fj5dChJw7iT0"
      },
      "execution_count": null,
      "outputs": []
    },
    {
      "cell_type": "code",
      "source": [
        "sns.histplot(x=norm_samples, kde=True, stat='probability')\n",
        "sns.histplot(x=folded_norm_samples, kde=True, color='red', stat='probability')"
      ],
      "metadata": {
        "colab": {
          "base_uri": "https://localhost:8080/",
          "height": 283
        },
        "id": "pT_Rti1B75qi",
        "outputId": "a44aa9f0-c81f-4c87-c10a-8dd1010c975a"
      },
      "execution_count": null,
      "outputs": [
        {
          "output_type": "execute_result",
          "data": {
            "text/plain": [
              "<matplotlib.axes._subplots.AxesSubplot at 0x7f8f8b627ad0>"
            ]
          },
          "metadata": {},
          "execution_count": 30
        },
        {
          "output_type": "display_data",
          "data": {
            "text/plain": [
              "<Figure size 432x288 with 1 Axes>"
            ],
            "image/png": "[encoded data removed]"
          },
          "metadata": {
            "needs_background": "light"
          }
        }
      ]
    },
    {
      "cell_type": "code",
      "source": [
        "# Bijectors also implement the logic to compute the inverse and/or the log determinant of the Jacobian (forward or inverse)\n",
        "print(bijection.inverse([0.2])) # This is a set inverse returning -0.2 and 0.2\n",
        "print(bijection.inverse_log_det_jacobian(0.2)) # 0 because this is the log of 1 (the actual derivative)"
      ],
      "metadata": {
        "colab": {
          "base_uri": "https://localhost:8080/"
        },
        "id": "KiCeBp078Fol",
        "outputId": "cb670e6e-a8bb-4f1e-96e8-47a2e220c909"
      },
      "execution_count": null,
      "outputs": [
        {
          "output_type": "stream",
          "name": "stdout",
          "text": [
            "(<tf.Tensor: shape=(1,), dtype=float32, numpy=array([-0.2], dtype=float32)>, <tf.Tensor: shape=(1,), dtype=float32, numpy=array([0.2], dtype=float32)>)\n",
            "(<tf.Tensor: shape=(), dtype=float32, numpy=0.0>, <tf.Tensor: shape=(), dtype=float32, numpy=0.0>)\n"
          ]
        }
      ]
    },
    {
      "cell_type": "code",
      "source": [
        "# With a Distribution and a Bijector, we can define a TransformedDistribution to avoid applying the bijector manually\n",
        "half_norm = tfd.TransformedDistribution(norm, bijection)"
      ],
      "metadata": {
        "id": "D6bCOWnRDYiJ"
      },
      "execution_count": null,
      "outputs": []
    },
    {
      "cell_type": "code",
      "source": [
        "# Some distributions provide a default bijection to map a real to their support\n",
        "folded_norm.experimental_default_event_space_bijector()"
      ],
      "metadata": {
        "colab": {
          "base_uri": "https://localhost:8080/"
        },
        "id": "eX3F83wnJFAf",
        "outputId": "e9853871-e45e-4187-f1dd-38caeca50ec2"
      },
      "execution_count": null,
      "outputs": [
        {
          "output_type": "execute_result",
          "data": {
            "text/plain": [
              "<tfp.bijectors.Softplus 'softplus' batch_shape=[] forward_min_event_ndims=0 inverse_min_event_ndims=0 dtype_x=? dtype_y=?>"
            ]
          },
          "metadata": {},
          "execution_count": 36
        }
      ]
    },
    {
      "cell_type": "code",
      "source": [
        "# We can use bijectors to parameterize unconstrained variables during optimization\n",
        "positive_variable = tfp.util.TransformedVariable(1., bijector=tfb.Exp()) # Variable constrained to be positive\n",
        "print(tfd.Normal(loc=0.0, scale=positive_variable).trainable_variables)"
      ],
      "metadata": {
        "colab": {
          "base_uri": "https://localhost:8080/"
        },
        "id": "81u6XVIeZX-I",
        "outputId": "094f14fd-ca41-4b5b-8852-f5cce3e40f10"
      },
      "execution_count": null,
      "outputs": [
        {
          "output_type": "stream",
          "name": "stdout",
          "text": [
            "(<tf.Variable 'Variable:0' shape=() dtype=float32, numpy=0.0>,)\n"
          ]
        }
      ]
    },
    {
      "cell_type": "code",
      "source": [
        "# One important bijection is the reshaping operation.\n",
        "# Differently from tf.reshape, we need to specify the input shape to ensure invertibility.\n",
        "tfb.Reshape((6,), event_shape_in=(2, 3))(mn_two_ind).event_shape"
      ],
      "metadata": {
        "colab": {
          "base_uri": "https://localhost:8080/"
        },
        "id": "8F7xoglrKOAe",
        "outputId": "11ea8b1a-1608-4a9c-ccd6-55a0cbcd6e57"
      },
      "execution_count": null,
      "outputs": [
        {
          "output_type": "execute_result",
          "data": {
            "text/plain": [
              "TensorShape([6])"
            ]
          },
          "metadata": {},
          "execution_count": 39
        }
      ]
    },
    {
      "cell_type": "code",
      "source": [
        "# We can also chain together bijections with Chain:\n",
        "# https://www.tensorflow.org/probability/api_docs/python/tfp/bijectors/Chain\n",
        "complex_bijectors = tfb.Chain([\n",
        "        tfb.AbsoluteValue(),\n",
        "        tfb.Power(3)\n",
        "])"
      ],
      "metadata": {
        "id": "0wNAQikeaXs3"
      },
      "execution_count": null,
      "outputs": []
    },
    {
      "cell_type": "code",
      "source": [
        "# Again, several bijectors are incredibly complex, notably TFP implements several state-of-the-art normalizing flows including NAFs.\n",
        "# See here for an introduction to normalizing flows: https://arxiv.org/abs/1912.02762\n",
        "# These are basically \"trainable\" biijectors implemented with neural networks.\n",
        "normalizing_flow = tfb.MaskedAutoregressiveFlow(shift_and_log_scale_fn=lambda y: (y, y + 1.))"
      ],
      "metadata": {
        "id": "-NfqAWE5a1F7"
      },
      "execution_count": null,
      "outputs": []
    },
    {
      "cell_type": "markdown",
      "source": [
        "## 3) Layers"
      ],
      "metadata": {
        "id": "j0J_5QV4og30"
      }
    },
    {
      "cell_type": "markdown",
      "source": [
        "Layers can be used to \"plug-in\" probabilistic layers inside TensorFlow models. There are many predefined layers, notably to perform variational inference (see below):\n",
        "https://www.tensorflow.org/probability/api_docs/python/tfp/layers"
      ],
      "metadata": {
        "id": "wy6ytTR-oizH"
      }
    },
    {
      "cell_type": "code",
      "source": [
        "def load_iris():\n",
        "  # Simple function to load the Iris dataset\n",
        "  # Note: we are performing a little bit of label smoothing to avoid numerical issues below (I am sure there is a better way, but this is just a toy notebook)\n",
        "  iris_train, iris_test = tensorflow_datasets.load('iris', split=['train[:70%]', 'train[70%:]'], as_supervised=True)\n",
        "  X_train, y_train = next(iter(iris_train.batch(10000)))\n",
        "  X_test, y_test = next(iter(iris_test.batch(10000)))\n",
        "  y_train = tf.cast(tf.one_hot(y_train, 3, on_value=0.99, off_value=0.01), tf.float32)\n",
        "  y_test = tf.cast(tf.one_hot(y_test, 3, on_value=0.99, off_value=0.01), tf.float32)\n",
        "  return X_train, y_train, X_test, y_test"
      ],
      "metadata": {
        "id": "JB8Y8z_LqNPS"
      },
      "execution_count": null,
      "outputs": []
    },
    {
      "cell_type": "code",
      "source": [
        "X_train, y_train, X_test, y_test = load_iris()"
      ],
      "metadata": {
        "id": "PuB_ZC1qrdAB"
      },
      "execution_count": null,
      "outputs": []
    },
    {
      "cell_type": "code",
      "source": [
        "# Normalization layer for the input\n",
        "norm = keras.layers.Normalization()\n",
        "norm.adapt(X_train)"
      ],
      "metadata": {
        "id": "Jr-1DZprrizD"
      },
      "execution_count": null,
      "outputs": []
    },
    {
      "cell_type": "code",
      "source": [
        "# The 'RelaxedOneHotCategorical' is a powerful way to approximate categorical distributions,\n",
        "# also known as Gumbel-Softmax or Concrete distribution.\n",
        "dist = tfd.RelaxedOneHotCategorical(logits=[1.0, -2.0], temperature=1.0)\n",
        "print(dist.sample(2))"
      ],
      "metadata": {
        "colab": {
          "base_uri": "https://localhost:8080/"
        },
        "id": "DW3KMfsBsvg4",
        "outputId": "a1a3139b-0802-4a68-ef2d-dc6a29a1df2c"
      },
      "execution_count": null,
      "outputs": [
        {
          "output_type": "stream",
          "name": "stdout",
          "text": [
            "tf.Tensor(\n",
            "[[0.9353895  0.06461043]\n",
            " [0.91769886 0.08230121]], shape=(2, 2), dtype=float32)\n"
          ]
        }
      ]
    },
    {
      "cell_type": "code",
      "source": [
        "# This is important: because the layer is reparameterized, TensorFlow is able\n",
        "# to compute its gradients automatically.\n",
        "print(dist.reparameterization_type)"
      ],
      "metadata": {
        "colab": {
          "base_uri": "https://localhost:8080/"
        },
        "id": "4YiOzHJEzBjs",
        "outputId": "9845d992-046d-49e5-d953-d8b30a21a4ef"
      },
      "execution_count": null,
      "outputs": [
        {
          "output_type": "stream",
          "name": "stdout",
          "text": [
            "<Reparameterization Type: FULLY_REPARAMETERIZED>\n"
          ]
        }
      ]
    },
    {
      "cell_type": "code",
      "source": [
        "# In order to insert it into a model, we wrap it into a DistributionLambda object (similar to a standard Lambda layer).\n",
        "# The layer samples during the forward pass, and compute the gradients as per above in the backward pass.\n",
        "gumbel_softmax = tfp.layers.DistributionLambda(lambda logits: tfd.RelaxedOneHotCategorical(logits=logits, temperature=1.0))"
      ],
      "metadata": {
        "id": "sg-9Oc5TtYUf"
      },
      "execution_count": null,
      "outputs": []
    },
    {
      "cell_type": "code",
      "source": [
        "# Standard fully-connected model, but we add our Gumbel-Softmax model at the end\n",
        "model = keras.Sequential([\n",
        "            keras.layers.Input((4,)), \n",
        "            norm, \n",
        "            keras.layers.Dense(10, activation='relu'),\n",
        "            keras.layers.Dense(3),\n",
        "            gumbel_softmax\n",
        "    ])"
      ],
      "metadata": {
        "id": "Y5QBf6Acrne3"
      },
      "execution_count": null,
      "outputs": []
    },
    {
      "cell_type": "code",
      "source": [
        "# Calling the model now returns a fully-fledged distribution!\n",
        "model(X_train[0:1])"
      ],
      "metadata": {
        "colab": {
          "base_uri": "https://localhost:8080/"
        },
        "id": "ixlW0B2ksZ8v",
        "outputId": "1730a8de-cb7f-4fca-ab9d-8252911af590"
      },
      "execution_count": null,
      "outputs": [
        {
          "output_type": "execute_result",
          "data": {
            "text/plain": [
              "<tfp.distributions._TensorCoercible 'tensor_coercible' batch_shape=[1] event_shape=[3] dtype=float32>"
            ]
          },
          "metadata": {},
          "execution_count": 242
        }
      ]
    },
    {
      "cell_type": "code",
      "source": [
        "# We can sample the output distribution to get multiple predictions, and then compute, e.g., some form of uncertainty.\n",
        "print(model(X_train[0:1]).sample(3))"
      ],
      "metadata": {
        "colab": {
          "base_uri": "https://localhost:8080/"
        },
        "id": "qXSCu6UDxKZM",
        "outputId": "319ecdd0-2cdb-454e-a759-02539577bdf5"
      },
      "execution_count": null,
      "outputs": [
        {
          "output_type": "stream",
          "name": "stdout",
          "text": [
            "tf.Tensor(\n",
            "[[[0.14498408 0.5651511  0.2898648 ]]\n",
            "\n",
            " [[0.06450069 0.2869705  0.6485289 ]]\n",
            "\n",
            " [[0.09284285 0.05383902 0.85331815]]], shape=(3, 1, 3), dtype=float32)\n"
          ]
        }
      ]
    },
    {
      "cell_type": "code",
      "source": [
        "# Because our model is now probabilitic, we can optimize by directly minimizing the negative log-likelihood:\n",
        "negloglik = lambda y, rv_y: - rv_y.log_prob(y)"
      ],
      "metadata": {
        "id": "WciA-q65O1n1"
      },
      "execution_count": null,
      "outputs": []
    },
    {
      "cell_type": "code",
      "source": [
        "# Optimization is standard, except that we minimize the negative log-likelihood defined above.\n",
        "model.compile(loss=negloglik,\n",
        "              optimizer=keras.optimizers.Adam(),\n",
        "              metrics=[keras.metrics.CategoricalAccuracy()])\n",
        "model.fit(X_train, y_train, epochs=500, verbose=1)\n",
        "model.evaluate(X_test, y_test)"
      ],
      "metadata": {
        "id": "OF7ILQtyx45j"
      },
      "execution_count": null,
      "outputs": []
    },
    {
      "cell_type": "markdown",
      "source": [
        "## 4) Joint distributions"
      ],
      "metadata": {
        "id": "ixw5l0pVJSW8"
      }
    },
    {
      "cell_type": "markdown",
      "source": [
        "Joint distributions are the most sophisticated construct in TFP, because they allow to define graphical models easily:\n",
        "https://www.tensorflow.org/probability/api_docs/python/tfp/distributions/JointDistribution\n",
        "\n",
        "Consider this completely meaningless graphical model, where I stitched together a few casually chosen distributions:\n",
        "\n",
        "$$\n",
        "a \\sim \\text{HalfCauchy}(0.0, 1.0) \\\\\n",
        "b \\sim \\text{Exponential}(a) \\\\\n",
        "c \\sim \\text{Normal}(0.0, 10.0) \\\\\n",
        "d_i \\sim \\text{Normal}(c, b) \\,, i = 1,2\n",
        "$$"
      ],
      "metadata": {
        "id": "bFf6TnPw4n_w"
      }
    },
    {
      "cell_type": "code",
      "source": [
        "# To implement the model in TFP, we can use a JointDistributionSequential, which works similarly to Sequential in TF.\n",
        "# Each element can be a distribution (i.e., a root of the graphical model) or a callable. In the latter case,\n",
        "# the arguments are ordered wrt the preceding elements in the model.\n",
        "joint = tfd.JointDistributionSequential([\n",
        "  tfp.distributions.HalfCauchy(loc=0.0, scale=1.0),\n",
        "  lambda a: tfd.Exponential(a), # 'a' here is a sample from the HalfCauchy model\n",
        "  tfd.Normal(loc=0., scale=10.),\n",
        "  lambda mu, sigma: tfd.Sample(tfd.Normal(loc=mu, scale=sigma), 2), # 'mu' follows the Normal distribution above, 'sigma' the Exponential one\n",
        "])"
      ],
      "metadata": {
        "id": "WRE1JaamK56W"
      },
      "execution_count": null,
      "outputs": []
    },
    {
      "cell_type": "code",
      "source": [
        "# We can sample the full graphical model easily\n",
        "joint.sample()"
      ],
      "metadata": {
        "colab": {
          "base_uri": "https://localhost:8080/"
        },
        "id": "45RFybMuCOHk",
        "outputId": "165f75f5-504d-4ad1-d3a4-68ab9f428680"
      },
      "execution_count": null,
      "outputs": [
        {
          "output_type": "execute_result",
          "data": {
            "text/plain": [
              "[<tf.Tensor: shape=(), dtype=float32, numpy=0.85623866>,\n",
              " <tf.Tensor: shape=(), dtype=float32, numpy=0.48505706>,\n",
              " <tf.Tensor: shape=(), dtype=float32, numpy=6.472289>,\n",
              " <tf.Tensor: shape=(2,), dtype=float32, numpy=array([6.979861 , 6.2074776], dtype=float32)>]"
            ]
          },
          "metadata": {},
          "execution_count": 119
        }
      ]
    },
    {
      "cell_type": "code",
      "source": [
        "# Get a simple graphical depiction to visualize everything is working correctly\n",
        "joint.resolve_graph()"
      ],
      "metadata": {
        "colab": {
          "base_uri": "https://localhost:8080/"
        },
        "id": "ib_jJPSaMX2m",
        "outputId": "1b8107e1-94d8-43c0-f7cd-7a40eb1ff130"
      },
      "execution_count": null,
      "outputs": [
        {
          "output_type": "execute_result",
          "data": {
            "text/plain": [
              "(('a', ()), ('sigma', ('a',)), ('mu', ()), ('x', ('mu', 'sigma')))"
            ]
          },
          "metadata": {},
          "execution_count": 120
        }
      ]
    },
    {
      "cell_type": "code",
      "source": [
        "# Log prob of the entire model\n",
        "joint.log_prob(joint.sample())"
      ],
      "metadata": {
        "colab": {
          "base_uri": "https://localhost:8080/"
        },
        "id": "86OuxyktMtdm",
        "outputId": "1e81010c-3a8a-4965-a3a0-f40f04262422"
      },
      "execution_count": null,
      "outputs": [
        {
          "output_type": "execute_result",
          "data": {
            "text/plain": [
              "<tf.Tensor: shape=(), dtype=float32, numpy=-4.6552863>"
            ]
          },
          "metadata": {},
          "execution_count": 121
        }
      ]
    },
    {
      "cell_type": "code",
      "source": [
        "# Divided by parts\n",
        "joint.log_prob_parts(joint.sample())"
      ],
      "metadata": {
        "colab": {
          "base_uri": "https://localhost:8080/"
        },
        "id": "AcgQKuljM5i4",
        "outputId": "4418909c-8b36-483e-d10a-10e4399d182f"
      },
      "execution_count": null,
      "outputs": [
        {
          "output_type": "execute_result",
          "data": {
            "text/plain": [
              "[<tf.Tensor: shape=(), dtype=float32, numpy=-6.8910875>,\n",
              " <tf.Tensor: shape=(), dtype=float32, numpy=2.887125>,\n",
              " <tf.Tensor: shape=(), dtype=float32, numpy=-3.2886708>,\n",
              " <tf.Tensor: shape=(), dtype=float32, numpy=5.6885324>]"
            ]
          },
          "metadata": {},
          "execution_count": 122
        }
      ]
    },
    {
      "cell_type": "code",
      "source": [
        "# Alternatively, we can get samples and corresponding distributions\n",
        "joint.sample_distributions()"
      ],
      "metadata": {
        "colab": {
          "base_uri": "https://localhost:8080/"
        },
        "id": "f4vJk3a7M9Bz",
        "outputId": "8f822065-4eb7-45be-e11c-cabd4b9f64c3"
      },
      "execution_count": null,
      "outputs": [
        {
          "output_type": "execute_result",
          "data": {
            "text/plain": [
              "([<tfp.distributions.HalfCauchy 'HalfCauchy' batch_shape=[] event_shape=[] dtype=float32>,\n",
              "  <tfp.distributions.Exponential 'Exponential' batch_shape=[] event_shape=[] dtype=float32>,\n",
              "  <tfp.distributions.Normal 'Normal' batch_shape=[] event_shape=[] dtype=float32>,\n",
              "  <tfp.distributions.Sample 'SampleNormal' batch_shape=[] event_shape=[2] dtype=float32>],\n",
              " [<tf.Tensor: shape=(), dtype=float32, numpy=0.9708817>,\n",
              "  <tf.Tensor: shape=(), dtype=float32, numpy=0.14014971>,\n",
              "  <tf.Tensor: shape=(), dtype=float32, numpy=-0.058480423>,\n",
              "  <tf.Tensor: shape=(2,), dtype=float32, numpy=array([-0.12430605, -0.11886838], dtype=float32)>])"
            ]
          },
          "metadata": {},
          "execution_count": 123
        }
      ]
    },
    {
      "cell_type": "code",
      "source": [
        "# We can \"pin\" some of the observed values\n",
        "joint.experimental_pin(a=[0.5])"
      ],
      "metadata": {
        "colab": {
          "base_uri": "https://localhost:8080/"
        },
        "id": "j7ryzTUQNLug",
        "outputId": "68ef8fbe-9ae7-4130-8c7c-299782dd7747"
      },
      "execution_count": null,
      "outputs": [
        {
          "output_type": "execute_result",
          "data": {
            "text/plain": [
              "<tfp.distributions.JointDistributionPinned 'PinnedJointDistributionSequential' batch_shape=[[], [], []] event_shape=[[], [], [2]] dtype=[float32, float32, float32]>"
            ]
          },
          "metadata": {},
          "execution_count": 125
        }
      ]
    },
    {
      "cell_type": "code",
      "source": [
        "# Alternative way to sample a subportion of the model\n",
        "joint.sample(a=[0.5])"
      ],
      "metadata": {
        "colab": {
          "base_uri": "https://localhost:8080/"
        },
        "id": "tOL9IA6VNVtG",
        "outputId": "b92a2c11-fd41-493b-abd6-a0899e7760ea"
      },
      "execution_count": null,
      "outputs": [
        {
          "output_type": "execute_result",
          "data": {
            "text/plain": [
              "[<tf.Tensor: shape=(1,), dtype=float32, numpy=array([0.5], dtype=float32)>,\n",
              " <tf.Tensor: shape=(1,), dtype=float32, numpy=array([0.2649266], dtype=float32)>,\n",
              " <tf.Tensor: shape=(), dtype=float32, numpy=-8.288429>,\n",
              " <tf.Tensor: shape=(1, 2), dtype=float32, numpy=array([[-8.409351, -8.304682]], dtype=float32)>]"
            ]
          },
          "metadata": {},
          "execution_count": 126
        }
      ]
    },
    {
      "cell_type": "code",
      "source": [
        "# We can also define joint distributions by using dictionaries or generators, to better control naming and flow:\n",
        "# https://www.tensorflow.org/probability/api_docs/python/tfp/distributions/JointDistributionNamed\n",
        "# https://www.tensorflow.org/probability/api_docs/python/tfp/distributions/JointDistributionCoroutine"
      ],
      "metadata": {
        "id": "KVmc-JqINeVh"
      },
      "execution_count": null,
      "outputs": []
    },
    {
      "cell_type": "code",
      "source": [
        "# If we need to do variational inference on the graphical model, we can obtain a surrogate posterior easily\n",
        "surrogate_posterior = tfp.experimental.vi.build_factored_surrogate_posterior(\n",
        "  event_shape=joint.event_shape_tensor(),)"
      ],
      "metadata": {
        "id": "f0JWi_4pLTQo"
      },
      "execution_count": null,
      "outputs": []
    },
    {
      "cell_type": "code",
      "source": [
        "# This has trainable mean and variance for each node in the original graphical model, as expected\n",
        "surrogate_posterior.trainable_variables"
      ],
      "metadata": {
        "colab": {
          "base_uri": "https://localhost:8080/"
        },
        "id": "3r1VcFrMLV6j",
        "outputId": "718826e7-de20-4164-af1a-494c4c06fb29"
      },
      "execution_count": null,
      "outputs": [
        {
          "output_type": "execute_result",
          "data": {
            "text/plain": [
              "(<tf.Variable 'loc:0' shape=() dtype=float32, numpy=-1.2503314>,\n",
              " <tf.Variable 'scale:0' shape=() dtype=float32, numpy=-4.6001782>,\n",
              " <tf.Variable 'loc_0001:0' shape=() dtype=float32, numpy=1.3510035>,\n",
              " <tf.Variable 'scale_0001:0' shape=() dtype=float32, numpy=-4.6001782>,\n",
              " <tf.Variable 'loc_0002:0' shape=() dtype=float32, numpy=-1.5623857>,\n",
              " <tf.Variable 'scale_0002:0' shape=() dtype=float32, numpy=-4.6001782>,\n",
              " <tf.Variable 'loc_0003:0' shape=(2,) dtype=float32, numpy=array([ 0.10016888, -0.57581   ], dtype=float32)>,\n",
              " <tf.Variable 'scale_0003:0' shape=(2,) dtype=float32, numpy=array([-4.6001782, -4.6001782], dtype=float32)>)"
            ]
          },
          "metadata": {},
          "execution_count": 131
        }
      ]
    },
    {
      "cell_type": "markdown",
      "source": [
        "## 5) Variational inference for Bayesian neural networks"
      ],
      "metadata": {
        "id": "aJSOustxIgrD"
      }
    },
    {
      "cell_type": "markdown",
      "source": [
        "We now try to solve a more complex task by approximating the posterior over a full Bayesian neural network with variational inference. This part is mostly taken from there:\n",
        "https://www.tensorflow.org/probability/examples/Probabilistic_Layers_Regression#case_3_epistemic_uncertainty"
      ],
      "metadata": {
        "id": "FuhPE9gKIjiW"
      }
    },
    {
      "cell_type": "code",
      "source": [
        "# We define a Normal prior over the weights of a Dense layer. The VariableLayer is used\n",
        "# to ensure that the variables for training the prior are created during the first call.\n",
        "def prior(kernel_size, bias_size=0, dtype=tf.float32):\n",
        "  n = kernel_size + bias_size\n",
        "  return keras.Sequential([\n",
        "      tfp.layers.VariableLayer(n),\n",
        "      tfp.layers.DistributionLambda(lambda t: tfd.Independent(\n",
        "          tfd.Normal(loc=t, scale=1),\n",
        "          reinterpreted_batch_ndims=1)),\n",
        "  ])"
      ],
      "metadata": {
        "id": "EVTU847e0Y0I"
      },
      "execution_count": null,
      "outputs": []
    },
    {
      "cell_type": "code",
      "source": [
        "# We equivalently define a variational posterior with a mean-field approximation as above\n",
        "# Note: prior and posterior are basically copy-pasted from the tutorial above.\n",
        "def posterior(kernel_size, bias_size=0, dtype=tf.float32):\n",
        "  n = kernel_size + bias_size\n",
        "  c = np.log(np.expm1(1.))\n",
        "  return tf.keras.Sequential([\n",
        "      tfp.layers.VariableLayer(2 * n),\n",
        "      tfp.layers.DistributionLambda(lambda t: tfd.Independent(\n",
        "          tfd.Normal(loc=t[..., :n],\n",
        "                     scale=1e-5 + tf.nn.softplus(c + t[..., n:])),\n",
        "          reinterpreted_batch_ndims=1)),\n",
        "  ])"
      ],
      "metadata": {
        "id": "U66WXpRJNiPk"
      },
      "execution_count": null,
      "outputs": []
    },
    {
      "cell_type": "code",
      "source": [
        "# We now extend our previous layer, by replacing the dense layers with their variational variant.\n",
        "model = keras.Sequential([\n",
        "            keras.layers.Input((4,)), \n",
        "            norm, \n",
        "            tfp.layers.DenseVariational(10, posterior, prior, activation='relu', kl_weight=1/X_train.shape[0]),\n",
        "            tfp.layers.DenseVariational(3, posterior, prior, activation='relu', kl_weight=1/X_train.shape[0]),\n",
        "            gumbel_softmax\n",
        "    ])"
      ],
      "metadata": {
        "id": "F6w-7yImN3YZ"
      },
      "execution_count": null,
      "outputs": []
    },
    {
      "cell_type": "code",
      "source": [
        "# Training is equivalent to before, except that we can now sample both the output & the weights of the network\n",
        "model.compile(loss=negloglik,\n",
        "              optimizer=keras.optimizers.Adam(0.01),\n",
        "              metrics=[keras.metrics.CategoricalAccuracy()])\n",
        "model.fit(X_train, y_train, epochs=1500, verbose=0)\n",
        "model.evaluate(X_test, y_test)"
      ],
      "metadata": {
        "id": "_fhg6WWTPX4k",
        "colab": {
          "base_uri": "https://localhost:8080/"
        },
        "outputId": "3814de78-955e-4987-f055-4154489a284f"
      },
      "execution_count": null,
      "outputs": [
        {
          "output_type": "stream",
          "name": "stdout",
          "text": [
            "2/2 [==============================] - 1s 8ms/step - loss: -5.6028 - categorical_accuracy: 0.8889\n"
          ]
        },
        {
          "output_type": "execute_result",
          "data": {
            "text/plain": [
              "[-5.602771759033203, 0.8888888955116272]"
            ]
          },
          "metadata": {},
          "execution_count": 257
        }
      ]
    },
    {
      "cell_type": "markdown",
      "source": [
        "## Things I did not cover\n",
        "\n",
        "1. Hamiltonian Monte Carlo (almost all the guides in the TFP website go through an example of MCMC).\n",
        "2. Gaussian Processes: https://www.tensorflow.org/probability/examples/Gaussian_Process_Latent_Variable_Model\n",
        "3. Generalized Linear Models: https://www.tensorflow.org/probability/examples/Generalized_Linear_Models\n",
        "4. Probabilistic processing of time series: https://www.tensorflow.org/probability/examples/STS_approximate_inference_for_models_with_non_Gaussian_observations"
      ],
      "metadata": {
        "id": "97GfOVKTRzT6"
      }
    }
  ]
}