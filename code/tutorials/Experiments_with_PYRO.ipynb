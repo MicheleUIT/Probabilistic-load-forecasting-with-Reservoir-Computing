{
 "cells": [
  {
   "cell_type": "markdown",
   "metadata": {},
   "source": [
    "Tutorial on PYRO along the lines of <a href=\"https://colab.research.google.com/github/MicheleUIT/Uncertainty/blob/master/Experiments_with_TF_Probability.ipynb\" target=\"_parent\"><img src=\"https://colab.research.google.com/assets/colab-badge.svg\" alt=\"Open In Colab\"/></a>"
   ]
  },
  {
   "cell_type": "markdown",
   "metadata": {},
   "source": [
    "# PYRO\n",
    "[Getting started page](https://pyro.ai/examples/index.html)"
   ]
  },
  {
   "cell_type": "code",
   "execution_count": null,
   "metadata": {},
   "outputs": [],
   "source": []
  }
 ],
 "metadata": {
  "kernelspec": {
   "display_name": "Python 3.9.13 ('uncertainty')",
   "language": "python",
   "name": "python3"
  },
  "language_info": {
   "name": "python",
   "version": "3.9.13"
  },
  "orig_nbformat": 4,
  "vscode": {
   "interpreter": {
    "hash": "60557ac213c4f904567501e30163cbfc56b9c76312e53cab0b1cef6c972a9f33"
   }
  }
 },
 "nbformat": 4,
 "nbformat_minor": 2
}
