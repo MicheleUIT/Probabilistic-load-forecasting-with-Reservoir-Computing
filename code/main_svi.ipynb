{
 "cells": [
  {
   "cell_type": "code",
   "execution_count": null,
   "metadata": {},
   "outputs": [],
   "source": [
    "import torch\n",
    "import wandb\n",
    "import os\n",
    "\n",
    "from pyro.infer.autoguide import AutoMultivariateNormal, init_to_mean\n",
    "from inference.bayesian.models import TorchModel, BayesianModel#, HorseshoeSSVS\n",
    "# from inference.bayesian.utils import plot_forecast\n",
    "from inference.inference import inference\n",
    "from ESN.utils import run_esn\n",
    "\n",
    "import pyro"
   ]
  },
  {
   "cell_type": "code",
   "execution_count": null,
   "metadata": {},
   "outputs": [],
   "source": [
    "config = {\n",
    "            \"dataset\": \"acea\",\n",
    "            \"model_widths\": [50, 10, 1],\n",
    "            \"activation\": \"tanh\",\n",
    "            \"distributions\": [\"gauss\", \"unif\", \"gauss\"],\n",
    "            \"parameters\": [[0,1],[0,10]],\n",
    "            \"dim_reduction\": False,\n",
    "            \"inference\": \"svi\",\n",
    "            \"lr\": 0.03,\n",
    "            \"num_iterations\": 120,\n",
    "            \"quantile\": 0.95,\n",
    "            \"plot\": False\n",
    "            }\n",
    "\n",
    "os.environ[\"WANDB_MODE\"]=\"offline\"\n",
    "wandb.init(project=\"bayes_rc\", config=config)\n",
    "config = wandb.config"
   ]
  },
  {
   "cell_type": "code",
   "execution_count": null,
   "metadata": {},
   "outputs": [],
   "source": [
    "os.environ[\"CUDA_VISIBLE_DEVICES\"]='0'\n",
    "\n",
    "if torch.cuda.is_available():\n",
    "    device = torch.device('cuda')\n",
    "else:\n",
    "    device = torch.device('cpu')"
   ]
  },
  {
   "cell_type": "code",
   "execution_count": null,
   "metadata": {},
   "outputs": [],
   "source": [
    "Ytr, train_embedding, val_embedding, Yte, test_embedding = run_esn(config.dataset, device, dim_reduction=config.dim_reduction)"
   ]
  },
  {
   "attachments": {},
   "cell_type": "markdown",
   "metadata": {},
   "source": [
    "# SVI"
   ]
  },
  {
   "cell_type": "code",
   "execution_count": null,
   "metadata": {},
   "outputs": [],
   "source": [
    "torch_model = TorchModel(config.model_widths, config.activation).to(device)\n",
    "svi_model = BayesianModel(torch_model, config, device)\n",
    "svi_model.render_model(model_args=(train_embedding[0], Ytr[0]))"
   ]
  },
  {
   "attachments": {},
   "cell_type": "markdown",
   "metadata": {},
   "source": [
    "Autoguide for testing"
   ]
  },
  {
   "cell_type": "code",
   "execution_count": null,
   "metadata": {},
   "outputs": [],
   "source": [
    "# To enforce all the parameters in the guide on the GPU, since we use an autoguide\n",
    "if device != 'cpu':\n",
    "    torch.set_default_tensor_type('torch.cuda.FloatTensor')\n",
    "\n",
    "guide = AutoMultivariateNormal(svi_model, init_loc_fn=init_to_mean)\n",
    "pyro.render_model(guide, model_args=(train_embedding, Ytr), render_distributions=True)"
   ]
  },
  {
   "attachments": {},
   "cell_type": "markdown",
   "metadata": {},
   "source": [
    "Il problema dello scrivere una guida custom è fare in modo che le variabili latenti siano correlate. Un approccio è quello usato dall'autoguide: usare gaussiane univariate e poi correlarle con la decomposizione di Cholesky (guarda [qui](https://papers.ssrn.com/sol3/papers.cfm?abstract_id=4066115)).\n",
    "\n",
    "Se io voglio usare distribuzioni diverse dalla gaussiana, come adattare questo approccio? Si possono mescolare distribuzioni diverse?\n",
    "\n",
    "Una possibilità è di usare le gaussiane inizialmente, ma poi quando si va a fare il sampling le si trasforma in distribuzioni diverse (guarda [qui](https://stats.stackexchange.com/a/415553), ma si può fare? Una volta che le correlo posso trasformarle? C'è un altro metodo per altre distribuzioni?)\n",
    "\n",
    "Ma mi serve davvero tutto questo controllo?"
   ]
  }
 ],
 "metadata": {
  "kernelspec": {
   "display_name": "uncertainty",
   "language": "python",
   "name": "python3"
  },
  "language_info": {
   "name": "python",
   "version": "3.10.8 (main, Nov 24 2022, 14:13:03) [GCC 11.2.0]"
  },
  "orig_nbformat": 4,
  "vscode": {
   "interpreter": {
    "hash": "f3bbb82b6045548644538904ec59102420d4bb0a8d133a166e8e247a3b857126"
   }
  }
 },
 "nbformat": 4,
 "nbformat_minor": 2
}
