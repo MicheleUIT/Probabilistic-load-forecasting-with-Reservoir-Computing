{
 "cells": [
  {
   "cell_type": "code",
   "execution_count": 1,
   "metadata": {},
   "outputs": [],
   "source": [
    "import torch\n",
    "import wandb\n",
    "import os\n",
    "\n",
    "from inference.bayesian.models import TorchModel\n",
    "# from inference.bayesian.utils import plot_forecast\n",
    "from inference.inference import inference\n",
    "from ESN.utils import run_esn\n",
    "\n",
    "import pyro"
   ]
  },
  {
   "cell_type": "code",
   "execution_count": 2,
   "metadata": {},
   "outputs": [
    {
     "name": "stderr",
     "output_type": "stream",
     "text": [
      "Failed to detect the name of this notebook, you can set it manually with the WANDB_NOTEBOOK_NAME environment variable to enable code saving.\n"
     ]
    },
    {
     "data": {
      "text/html": [
       "Tracking run with wandb version 0.13.6"
      ],
      "text/plain": [
       "<IPython.core.display.HTML object>"
      ]
     },
     "metadata": {},
     "output_type": "display_data"
    },
    {
     "data": {
      "text/html": [
       "W&B syncing is set to <code>`offline`<code> in this directory.  <br/>Run <code>`wandb online`<code> or set <code>WANDB_MODE=online<code> to enable cloud syncing."
      ],
      "text/plain": [
       "<IPython.core.display.HTML object>"
      ]
     },
     "metadata": {},
     "output_type": "display_data"
    }
   ],
   "source": [
    "config = {\n",
    "            \"dataset\": \"acea\",\n",
    "            \"model_widths\": [50, 10, 1],\n",
    "            \"activation\": \"tanh\",\n",
    "            \"distributions\": [\"gauss\", \"unif\", \"gauss\"],\n",
    "            \"parameters\": [[0,1],[0,10]],\n",
    "            \"dim_reduction\": False,\n",
    "            \"inference\": \"q_regr\",\n",
    "            \"lr\": 0.03,\n",
    "            \"num_iterations\": 120,\n",
    "            \"quantile\": 0.95,\n",
    "            \"plot\": False\n",
    "            }\n",
    "\n",
    "os.environ[\"WANDB_MODE\"]=\"offline\"\n",
    "wandb.init(project=\"bayes_rc\", config=config)\n",
    "config = wandb.config"
   ]
  },
  {
   "cell_type": "code",
   "execution_count": 3,
   "metadata": {},
   "outputs": [],
   "source": [
    "os.environ[\"CUDA_VISIBLE_DEVICES\"]='0'\n",
    "\n",
    "if torch.cuda.is_available():\n",
    "    device = torch.device('cuda')\n",
    "else:\n",
    "    device = torch.device('cpu')"
   ]
  },
  {
   "cell_type": "code",
   "execution_count": 4,
   "metadata": {},
   "outputs": [
    {
     "name": "stdout",
     "output_type": "stream",
     "text": [
      "Tr: 4882, Val: 1047, Te: 1047\n"
     ]
    }
   ],
   "source": [
    "Ytr, train_embedding, val_embedding, Yte, test_embedding = run_esn(config.dataset, device, dim_reduction=config.dim_reduction)"
   ]
  },
  {
   "attachments": {},
   "cell_type": "markdown",
   "metadata": {},
   "source": [
    "# Quantile Regression"
   ]
  },
  {
   "cell_type": "code",
   "execution_count": 5,
   "metadata": {},
   "outputs": [],
   "source": [
    "QR_torch_model = TorchModel(config.model_widths, config.activation).to(device)"
   ]
  },
  {
   "cell_type": "code",
   "execution_count": 6,
   "metadata": {},
   "outputs": [
    {
     "name": "stdout",
     "output_type": "stream",
     "text": [
      "[iteration 0001] loss: 1.2753\n",
      "[iteration 0021] loss: 6.7512\n",
      "[iteration 0041] loss: 6.7295\n",
      "[iteration 0061] loss: 6.7510\n",
      "[iteration 0081] loss: 6.7588\n",
      "[iteration 0101] loss: 6.7395\n"
     ]
    }
   ],
   "source": [
    "predictive, diagnostics = inference(config, QR_torch_model, None, X_train=train_embedding, Y_train=Ytr, X_test=test_embedding, Y_test=Yte, num_samples=None)"
   ]
  },
  {
   "cell_type": "code",
   "execution_count": 10,
   "metadata": {},
   "outputs": [
    {
     "data": {
      "text/plain": [
       "[<matplotlib.lines.Line2D at 0x7f087f1e8550>]"
      ]
     },
     "execution_count": 10,
     "metadata": {},
     "output_type": "execute_result"
    },
    {
     "data": {
      "image/png": "[encoded data removed]",
      "text/plain": [
       "<Figure size 640x480 with 1 Axes>"
      ]
     },
     "metadata": {},
     "output_type": "display_data"
    }
   ],
   "source": [
    "import matplotlib.pyplot as plt\n",
    "\n",
    "plt.plot(predictive.detach().cpu().numpy())"
   ]
  },
  {
   "attachments": {},
   "cell_type": "markdown",
   "metadata": {},
   "source": [
    "testing\n",
    "\n",
    "https://github.com/ceshine/quantile-regression-tensorflow/blob/master/notebooks/03-sklearn-example-pytorch.ipynb"
   ]
  },
  {
   "cell_type": "code",
   "execution_count": 11,
   "metadata": {},
   "outputs": [],
   "source": [
    "import numpy as np"
   ]
  },
  {
   "cell_type": "code",
   "execution_count": 12,
   "metadata": {},
   "outputs": [],
   "source": [
    "model = QR_torch_model"
   ]
  },
  {
   "cell_type": "code",
   "execution_count": 18,
   "metadata": {},
   "outputs": [],
   "source": [
    "def qloss(preds, target, quantiles):\n",
    "    losses = []\n",
    "    for i, q in enumerate(quantiles):\n",
    "        errors = target - preds[:, i]\n",
    "        losses.append(torch.max((q-1) * errors, q * errors).unsqueeze(1))\n",
    "    loss = torch.mean(torch.sum(torch.cat(losses, dim=1), dim=1))\n",
    "    return loss"
   ]
  },
  {
   "cell_type": "code",
   "execution_count": 23,
   "metadata": {},
   "outputs": [
    {
     "name": "stdout",
     "output_type": "stream",
     "text": [
      "Epoch 100: 357.9814147949219\n",
      "Epoch 200: 357.7261047363281\n",
      "Epoch 300: 357.46673583984375\n",
      "Epoch 400: 357.2109680175781\n",
      "Epoch 500: 356.9507751464844\n",
      "Epoch 600: 356.6938171386719\n",
      "Epoch 700: 356.432861328125\n",
      "Epoch 800: 356.1772766113281\n",
      "Epoch 900: 355.9187927246094\n",
      "Epoch 1000: 355.6596984863281\n"
     ]
    }
   ],
   "source": [
    "epochs = 1000\n",
    "batch_size = 10\n",
    "\n",
    "model.train()\n",
    "optimizer = torch.optim.SGD(model.parameters(), lr=0.03, momentum=0.9)\n",
    "\n",
    "x = train_embedding\n",
    "y = Ytr\n",
    "\n",
    "for e in range(epochs):\n",
    "    # shuffle_idx = np.arange(x.shape[0])\n",
    "    # np.random.shuffle(shuffle_idx)\n",
    "    # x = x[shuffle_idx]\n",
    "    # y = y[shuffle_idx]\n",
    "    epoch_losses = []\n",
    "    for idx in range(0, x.shape[0], batch_size):\n",
    "        optimizer.zero_grad()\n",
    "        batch_x = x[idx : min(idx + batch_size, x.shape[0]),:].requires_grad_(False)\n",
    "        batch_y = y[idx : min(idx + batch_size, y.shape[0])].requires_grad_(False)\n",
    "        preds = model(batch_x)\n",
    "        loss = qloss(preds, batch_y, [0.5])\n",
    "        loss.backward()\n",
    "        optimizer.step()\n",
    "        epoch_losses.append(loss.cpu().detach().numpy())                                \n",
    "    epoch_loss =  np.mean(epoch_losses)\n",
    "    if (e+1) % 100 == 0:\n",
    "        print(\"Epoch {}: {}\".format(e+1, epoch_loss))"
   ]
  },
  {
   "cell_type": "code",
   "execution_count": 24,
   "metadata": {},
   "outputs": [
    {
     "data": {
      "text/plain": [
       "[<matplotlib.lines.Line2D at 0x7f087eeed5a0>]"
      ]
     },
     "execution_count": 24,
     "metadata": {},
     "output_type": "execute_result"
    },
    {
     "data": {
      "image/png": "[encoded data removed]",
      "text/plain": [
       "<Figure size 640x480 with 1 Axes>"
      ]
     },
     "metadata": {},
     "output_type": "display_data"
    }
   ],
   "source": [
    "pred = model(test_embedding)\n",
    "\n",
    "plt.plot(pred.detach().cpu().numpy())"
   ]
  },
  {
   "cell_type": "code",
   "execution_count": null,
   "metadata": {},
   "outputs": [],
   "source": []
  }
 ],
 "metadata": {
  "kernelspec": {
   "display_name": "uncertainty",
   "language": "python",
   "name": "python3"
  },
  "language_info": {
   "codemirror_mode": {
    "name": "ipython",
    "version": 3
   },
   "file_extension": ".py",
   "mimetype": "text/x-python",
   "name": "python",
   "nbconvert_exporter": "python",
   "pygments_lexer": "ipython3",
   "version": "3.10.8"
  },
  "orig_nbformat": 4,
  "vscode": {
   "interpreter": {
    "hash": "f3bbb82b6045548644538904ec59102420d4bb0a8d133a166e8e247a3b857126"
   }
  }
 },
 "nbformat": 4,
 "nbformat_minor": 2
}
