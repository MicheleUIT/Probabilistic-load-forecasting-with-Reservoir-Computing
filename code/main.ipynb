{
 "cells": [
  {
   "cell_type": "code",
   "execution_count": null,
   "metadata": {},
   "outputs": [],
   "source": [
    "import torch\n",
    "import wandb\n",
    "import os\n",
    "\n",
    "from bayesian.models import HorseshoeSSVS\n",
    "from bayesian.inference import inference\n",
    "from ESN.utils import run_esn\n",
    "\n",
    "import pyro"
   ]
  },
  {
   "cell_type": "code",
   "execution_count": null,
   "metadata": {},
   "outputs": [],
   "source": [
    "config = {\n",
    "            \"dataset\": \"acea\",\n",
    "            \"model_widths\": [20, 10, 1],\n",
    "            \"activation\": \"tanh\",\n",
    "            \"distributions\": [\"gauss\", \"unif\", \"gauss\"],\n",
    "            \"parameters\": [[0,1],[0,10]],\n",
    "            \"dim_reduction\": False,\n",
    "            \"inference\": \"mcmc\"\n",
    "            }\n",
    "\n",
    "os.environ[\"WANDB_MODE\"]=\"offline\"\n",
    "wandb.init(project=\"bayes_rc\", config=config)\n",
    "config = wandb.config"
   ]
  },
  {
   "cell_type": "code",
   "execution_count": null,
   "metadata": {},
   "outputs": [],
   "source": [
    "os.environ[\"CUDA_VISIBLE_DEVICES\"]='0'\n",
    "\n",
    "if torch.cuda.is_available():\n",
    "    device = torch.device('cuda')\n",
    "else:\n",
    "    device = torch.device('cpu')"
   ]
  },
  {
   "attachments": {},
   "cell_type": "markdown",
   "metadata": {},
   "source": [
    "Run ESN on dataset and produce embeddings with or without dimensionality reduction according to `dim_reduction`"
   ]
  },
  {
   "cell_type": "code",
   "execution_count": null,
   "metadata": {},
   "outputs": [],
   "source": [
    "Ytr, train_embedding, val_embedding, Yte, test_embedding = run_esn(config.dataset, dim_reduction=config.dim_reduction)"
   ]
  },
  {
   "attachments": {},
   "cell_type": "markdown",
   "metadata": {},
   "source": [
    "# Stochastic Search Variable Selection\n",
    "\n",
    "Perform SSVS on embeddings with no dimensionality reduction."
   ]
  },
  {
   "cell_type": "code",
   "execution_count": null,
   "metadata": {},
   "outputs": [],
   "source": [
    "# Define the horseshoe SSVS model\n",
    "# type = 'm' for 'manual' linear layer, type = 't' for torch.nn.linear\n",
    "ssvs_model = HorseshoeSSVS(train_embedding.shape(0), 1, type='m', device=device)\n",
    "\n",
    "pyro.render_model(model_args=(train_embedding[0], Ytr[0]), render_distributions=True, filename=None)"
   ]
  },
  {
   "cell_type": "code",
   "execution_count": null,
   "metadata": {},
   "outputs": [],
   "source": [
    "# Run Markov chains and collect diagnostics\n",
    "predictive, diagnostics = inference(config, ssvs_model, None, X_train=train_embedding, Y_train=Ytr, X_test=test_embedding, Y_test=Yte)"
   ]
  }
 ],
 "metadata": {
  "kernelspec": {
   "display_name": "uncertainty",
   "language": "python",
   "name": "python3"
  },
  "language_info": {
   "name": "python",
   "version": "3.10.8 (main, Nov 24 2022, 14:13:03) [GCC 11.2.0]"
  },
  "orig_nbformat": 4,
  "vscode": {
   "interpreter": {
    "hash": "f3bbb82b6045548644538904ec59102420d4bb0a8d133a166e8e247a3b857126"
   }
  }
 },
 "nbformat": 4,
 "nbformat_minor": 2
}
